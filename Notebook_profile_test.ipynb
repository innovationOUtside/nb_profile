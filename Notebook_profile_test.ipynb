{
 "cells": [
  {
   "cell_type": "markdown",
   "metadata": {},
   "source": [
    "# Test Notebook for Notebook Profiler\n",
    "\n",
    "This notebook provides a test case for the notebook profiler.\n",
    "\n",
    "It includes a range of markdown and code cells intended to test various features of the profiler.\n",
    "\n",
    "Note that this notebook does not necessarily run..."
   ]
  },
  {
   "cell_type": "markdown",
   "metadata": {},
   "source": [
    "## Markdown Cells With Code Blocks\n",
    "\n",
    "This cell, for example, contains a single code block:\n",
    "    \n",
    "```python\n",
    "import pandas\n",
    "\n",
    "#Create a dataframe\n",
    "df = pd.DataFrame()\n",
    "```"
   ]
  },
  {
   "cell_type": "markdown",
   "metadata": {},
   "source": [
    "This cell contains two code blocks.\n",
    "\n",
    "Here's one:\n",
    "\n",
    "```python\n",
    "import pandas\n",
    "\n",
    "#Create a dataframe\n",
    "df = pd.DataFrame()\n",
    "```\n",
    "\n",
    "and here's another:\n",
    "\n",
    "```python\n",
    "\n",
    "import pandas\n",
    "\n",
    "#Create a dataframe\n",
    "df = pd.DataFrame()\n",
    "\n",
    "```\n",
    "\n",
    "So that's two..."
   ]
  },
  {
   "cell_type": "code",
   "execution_count": null,
   "metadata": {},
   "outputs": [],
   "source": [
    "# This is a code cell\n",
    "import pandas\n",
    "\n",
    "#Create a dataframe\n",
    "df = pd.DataFrame()"
   ]
  },
  {
   "cell_type": "code",
   "execution_count": null,
   "metadata": {},
   "outputs": [],
   "source": [
    "# This is a code cell with a magic...\n",
    "\n",
    "%matplotlib inline\n",
    "import time\n",
    "\n",
    "def fn():\n",
    "    \"\"\"How is the docstring handled?\"\"\"\n",
    "    pass"
   ]
  },
  {
   "cell_type": "code",
   "execution_count": 1,
   "metadata": {},
   "outputs": [],
   "source": [
    "%load_ext sql"
   ]
  },
  {
   "cell_type": "code",
   "execution_count": null,
   "metadata": {},
   "outputs": [],
   "source": [
    "%%sql\n",
    "SELECT * FROM TABLE;\n",
    "-- comment just anyway..."
   ]
  },
  {
   "cell_type": "code",
   "execution_count": null,
   "metadata": {},
   "outputs": [],
   "source": [
    "#Here's a cell with a shell command\n",
    "!ls"
   ]
  },
  {
   "cell_type": "markdown",
   "metadata": {},
   "source": [
    "## Links and Images\n",
    "\n",
    "Here is a [link](http:/example.com) and <a href=\"http://another.example.com\">another link</a>.\n",
    "\n",
    "![](./broken_image.png)\n",
    "\n",
    "![some alt text](./broken_image2.png)"
   ]
  }
 ],
 "metadata": {
  "kernelspec": {
   "display_name": "Python 3 (ipykernel)",
   "language": "python",
   "name": "python3"
  },
  "language_info": {
   "codemirror_mode": {
    "name": "ipython",
    "version": 3
   },
   "file_extension": ".py",
   "mimetype": "text/x-python",
   "name": "python",
   "nbconvert_exporter": "python",
   "pygments_lexer": "ipython3",
   "version": "3.9.12"
  }
 },
 "nbformat": 4,
 "nbformat_minor": 2
}
