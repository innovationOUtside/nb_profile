{
 "cells": [
  {
   "cell_type": "code",
   "execution_count": 1,
   "id": "996f7a9a",
   "metadata": {},
   "outputs": [
    {
     "name": "stderr",
     "output_type": "stream",
     "text": [
      "/var/folders/l8/qg6m44156_l6bzv_cbkk7bf00000gn/T/ipykernel_48189/4150316777.py:2: UserWarning: Warning...........Message\n",
      "  warnings.warn(\"Warning...........Message\")\n"
     ]
    }
   ],
   "source": [
    "import warnings\n",
    "warnings.warn(\"Warning...........Message\")"
   ]
  },
  {
   "cell_type": "code",
   "execution_count": null,
   "id": "4d92ef30",
   "metadata": {},
   "outputs": [],
   "source": []
  },
  {
   "cell_type": "code",
   "execution_count": null,
   "id": "bd65cc43",
   "metadata": {},
   "outputs": [],
   "source": []
  }
 ],
 "metadata": {
  "kernelspec": {
   "display_name": "Python 3 (ipykernel)",
   "language": "python",
   "name": "python3"
  },
  "language_info": {
   "codemirror_mode": {
    "name": "ipython",
    "version": 3
   },
   "file_extension": ".py",
   "mimetype": "text/x-python",
   "name": "python",
   "nbconvert_exporter": "python",
   "pygments_lexer": "ipython3",
   "version": "3.9.12"
  }
 },
 "nbformat": 4,
 "nbformat_minor": 5
}
