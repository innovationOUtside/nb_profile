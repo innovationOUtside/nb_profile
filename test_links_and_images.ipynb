{
 "cells": [
  {
   "cell_type": "markdown",
   "id": "6c2327a4",
   "metadata": {},
   "source": [
    "# Images\n",
    "\n",
    "![](no_alt_text.png)\n",
    "\n",
    "![Some text](some_alt_text.png)"
   ]
  },
  {
   "cell_type": "markdown",
   "id": "ae6bbea4",
   "metadata": {},
   "source": [
    "## Links\n",
    "\n",
    "[my text](http://www.bbc.co.uk)\n",
    "\n",
    "[](http://www.open.ac.uk)\n",
    "\n",
    "http://www.github.com\n",
    "\n",
    "http://www.sdfhsfgdh.com"
   ]
  },
  {
   "cell_type": "code",
   "execution_count": null,
   "id": "0db5f1da",
   "metadata": {},
   "outputs": [],
   "source": []
  }
 ],
 "metadata": {
  "kernelspec": {
   "display_name": "Python 3 (ipykernel)",
   "language": "python",
   "name": "python3"
  },
  "language_info": {
   "codemirror_mode": {
    "name": "ipython",
    "version": 3
   },
   "file_extension": ".py",
   "mimetype": "text/x-python",
   "name": "python",
   "nbconvert_exporter": "python",
   "pygments_lexer": "ipython3",
   "version": "3.9.12"
  }
 },
 "nbformat": 4,
 "nbformat_minor": 5
}
