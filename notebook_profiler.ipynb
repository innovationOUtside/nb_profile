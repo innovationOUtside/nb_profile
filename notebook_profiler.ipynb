{
 "cells": [
  {
   "cell_type": "markdown",
   "id": "29d33b18",
   "metadata": {},
   "source": [
    "# Notebook Profiles\n",
    "\n",
    "This exploratory coding notebook explores several techniques to support the static profiling of Jupyter notebooks as texts, reporting on various metrics, including:\n",
    "\n",
    "- notebook size (markdown and code line counts);\n",
    "- readability scores;\n",
    "- reading time estimates;\n",
    "- code complexity and maintability.\n",
    "\n",
    "The motivating context was a tool for generating summary reports on the estimated workload associated with 100 or so  notebooks over 25 or so directories (1 directory / 4 notebooks per week) for a third year undergraduate equivalent Open University course on data management and analysis.\n",
    "\n",
    "Previous notebook recipes include generating simple reports that pull out headings from notebooks to act as notebook summaries (eg [`Get Contents`](https://github.com/innovationOUtside/TM351_forum_examples/blob/master/Get%20Contents.ipynb)). Such recipes may provide a useful component in a notebook quality report if the report is also intended to provide a summary / overview of notebooks. (It might be most useful to offer heading summaries as an option in a notebook profiling report?)\n",
    "\n",
    "Tools supporting the profiling of one or more notebooks across one or more directories and the generation of simple statistics over them are also provided.\n",
    "\n",
    "The profiler is also capabale of running simple health checks over a notebook, for example reporting on:\n",
    "\n",
    "- whether code cells have been executed, and if so, whether code cell execution in complete and in linear order;\n",
    "- packages / modules loaded in to the notebook;\n",
    "- unused code items in a notebook (for example, modules loaded but not used).\n",
    "\n",
    "Currently, code profiling is only applied to code that appears in code cells, not code that is quoted or described in markdown cells.\n",
    "\n",
    "There is a potential for making IPython magics for some of the reporting functions (for example, `radon` or `wily` reports) to provide live feedback / reporting during the creation of content in a notebook.\n",
    "\n",
    "*Code has been extract from this notebook into the `nb_quality_profile` package. If experiments are made updating code in this notebook, it will need mirroring in the actual package...*\n",
    "\n",
    "### Notebooks\n",
    "\n",
    "In the first instance, reports are generated for code cell inputs and markdown cells; code outputs and raw cells are not considered. Code appearing in markdown cells is identified as code-like but not analysed in terms of code complexity etc.\n",
    "\n",
    "For each markdown cell, we can generate a wide range of simple text document statistics. Several packages exist to support such analyses (for example, [`textstat`](https://github.com/shivam5992/textstat), [`readability`](https://github.com/andreasvc/readability/)) but the focus in this notebook will be on metrics derived using the [`spacy`](https://spacy.io/) underpinned by the local `text_stats.py` package for things like readability metrics. Several simple custom metrics are also suggested.\n",
    "\n",
    "For code in code cells, the [`radon`](https://radon.readthedocs.io) package is used to generate code metrics, with additional packages providing further simple metrics.\n",
    "\n",
    "A test notebook is provided (`Notebook_profile_test.ipynb`) against which we can test various elements of this notebook.\n",
    "\n",
    "### Potential Future Work\n",
    "\n",
    "In terms of analysing cell outputs (not covered as yet), reports could be generated on the sorts of asset that appear to be displayed in each cell output, whether code warnings or errors are raised, etc. There is also potential for running in association with something like [`nbval`](https://github.com/computationalmodelling/nbval) to test that notebooks test correctly against previously run cell outputs.\n",
    "\n",
    "We might also explore the extent to which interactive notebook profiling tools, such as magics or notebook extensions, be used to support the authoring of new instructional notebooks.\n",
    "\n",
    "We might also ask to what extent might interactive notebook profiling tools be used to support learners working through instructional material and reflecting on their work? Code health metrics, such as [cell execution success](https://nbgallery.github.io/health_paper.html) used by *nbgallery* may provide clues regarding which code activity cells students struggled to get working, for example. By looking at statistics across students (for example, in assessment notebooks with cell execution success log monitoring enabled) we may be able to identify \"healthy\" or \"unhealthy\" activities; for example, a healthy activity is one in which students can get their code to run with one or two tries, an unhealthy activity is one where they make repeated attempts at trying to get the code to work as they desire.\n",
    "\n",
    "The notebook profiler should also be runnable against notebooks created using Jupytext from markdown rendered from OU-XML. It would probably make *more* sense to build a custom OU-XML profiler, eg one that could perhaps draw on a summary XML doc generated from OU-XML source docs using XSLT. I'll try to bear in mind creating reporting functions that might be useable in this wider sense. (OU-XML will also have thngs like a/v components, and may have explicit time guidance on expected time spent on particular activities.)\n"
   ]
  },
  {
   "cell_type": "code",
   "execution_count": 1,
   "id": "a21dbb02",
   "metadata": {},
   "outputs": [],
   "source": [
    "# Last using numpy 1.x\n",
    "#%pip install --upgrade numpy<2 spacy==3.7.5 pandas==2.2.2 scikit-learn==1.4.0"
   ]
  },
  {
   "cell_type": "markdown",
   "id": "82d08fad",
   "metadata": {},
   "source": [
    "## Settings\n",
    "\n",
    "The following parameters are used notebook wide in the generation of reports."
   ]
  },
  {
   "cell_type": "code",
   "execution_count": 1,
   "id": "e015c637",
   "metadata": {},
   "outputs": [],
   "source": [
    "READING_RATE = 100 # words per minute\n",
    "# What is a sensible reading rate for undergraduate level academic teaching material?\n",
    "# 250 wpm gives a rate of 15,000 wph\n",
    "# 10,000 wph corresponds to about 170 words per minute\n",
    "# OU guidance: 35 wpm for challenging texts, 70 wpm for medium texts, 120 wpm for easy texts\n",
    "\n",
    "CODE_READING_RATE = 35 # tokens per minute -- UNUSED\n",
    "\n",
    "CODE_LINE_READING_TIME = 1 # time in seconds to read a code line\n",
    "\n",
    "LINE_WIDTH = 160 #character width of a line of markdown text; used to calculate \"screen lines\"\n",
    "\n",
    "CODE_CELL_REVIEW_TIME = 5 # nominal time in seconds to run each code cell / review each code cell output\n",
    "\n",
    "CELL_SKIP_TIME = 1 # nominal time in seconds to move from one cell to the next"
   ]
  },
  {
   "cell_type": "markdown",
   "id": "d360e1c4",
   "metadata": {},
   "source": [
    "## Open Notebook\n",
    "\n",
    "Open and read a notebook, such as the associated test notebook:"
   ]
  },
  {
   "cell_type": "code",
   "execution_count": 2,
   "id": "b7322c18",
   "metadata": {},
   "outputs": [],
   "source": [
    "import nbformat"
   ]
  },
  {
   "cell_type": "code",
   "execution_count": 3,
   "id": "166b9e47",
   "metadata": {
    "tags": [
     "active-ipynb"
    ]
   },
   "outputs": [],
   "source": [
    "TEST_NOTEBOOK = '../Notebook_profile_test.ipynb'\n",
    "with open(TEST_NOTEBOOK,'r') as f:\n",
    "    nb = nbformat.reads(f.read(), as_version=4)"
   ]
  },
  {
   "cell_type": "markdown",
   "id": "8f91e782",
   "metadata": {},
   "source": [
    "## Analyse Markdown Cells\n",
    "\n",
    "Iterate through markdown cells and generate cell by cell reports.\n",
    "\n",
    "We can start off by generating some simple counts for a single notebook.\n",
    "\n",
    "Let's preview the contents of a single cell:"
   ]
  },
  {
   "cell_type": "code",
   "execution_count": 4,
   "id": "20a928b3",
   "metadata": {
    "tags": [
     "active-ipynb"
    ]
   },
   "outputs": [
    {
     "data": {
      "text/plain": [
       "{'cell_type': 'markdown',\n",
       " 'metadata': {},\n",
       " 'source': '# Test Notebook for Notebook Profiler\\n\\nThis notebook provides a test case for the notebook profiler.\\n\\nIt includes a range of markdown and code cells intended to test various features of the profiler.\\n\\nNote that this notebook does not necessarily run...'}"
      ]
     },
     "execution_count": 4,
     "metadata": {},
     "output_type": "execute_result"
    }
   ],
   "source": [
    "nb.cells[0]"
   ]
  },
  {
   "cell_type": "markdown",
   "id": "b4ede56a",
   "metadata": {},
   "source": [
    "We can look at just the markdown component associated with a markdown cell - this will be the basis for our markdown text analysis."
   ]
  },
  {
   "cell_type": "code",
   "execution_count": 5,
   "id": "4fb4afd9",
   "metadata": {
    "tags": [
     "active-ipynb"
    ]
   },
   "outputs": [],
   "source": [
    "txt = nb.cells[0]['source']"
   ]
  },
  {
   "cell_type": "markdown",
   "id": "cafbbae1",
   "metadata": {},
   "source": [
    "Estimates of reading time are often based on word count estimates. The Medium website use a reading time estimator that also factors in the presence of images in a text as well as wordcount / sentence length. The [`readtime`](https://github.com/alanhamlett/readtime) package uses the Medium reading time estimation algorithm to give a reading time estimate.\n",
    "\n",
    "\n",
    "?? TO DO - more on the reading time equation; also need something like maybe: +10s for every code cell to run it and look at output? Different reading time per line of code?\n",
    "\n",
    "*It might be worth looking at forking this reading time estimator and try to factor in reading time elements that reflect the presence of code? Or maybe use a slower reading rate for code? Or factor in code complexity? The presence of links might also affect reading time.*"
   ]
  },
  {
   "cell_type": "code",
   "execution_count": 6,
   "id": "10333731",
   "metadata": {},
   "outputs": [],
   "source": [
    "# https://github.com/alanhamlett/readtime\n",
    "#%pip install readtime\n",
    "\n",
    "import readtime\n",
    "import math"
   ]
  },
  {
   "cell_type": "code",
   "execution_count": 7,
   "id": "acebf52c",
   "metadata": {
    "tags": [
     "active-ipynb"
    ]
   },
   "outputs": [
    {
     "data": {
      "text/plain": [
       "'Reading time in seconds: 25.0; in minutes: 1.'"
      ]
     },
     "execution_count": 7,
     "metadata": {},
     "output_type": "execute_result"
    }
   ],
   "source": [
    "rt = readtime.of_markdown(txt, wpm=READING_RATE).delta.total_seconds()\n",
    "\n",
    "#Round up on the conversion of estimated reading time in seonds, to minutes...\n",
    "f'Reading time in seconds: {rt}; in minutes: {math.ceil(rt/60)}.'"
   ]
  },
  {
   "cell_type": "markdown",
   "id": "ddf308b5",
   "metadata": {},
   "source": [
    "The `spacy` natural language processing package provides a wide ranging of basic tools for parsing texts."
   ]
  },
  {
   "cell_type": "code",
   "execution_count": 8,
   "id": "c5aa7a04",
   "metadata": {},
   "outputs": [],
   "source": [
    "#%pip install --upgrade spacy pandas scikit-lean"
   ]
  },
  {
   "cell_type": "code",
   "execution_count": 9,
   "id": "48d9ce20",
   "metadata": {},
   "outputs": [],
   "source": [
    "#%pip install spacy\n",
    "import spacy\n",
    "\n",
    "# Check we have the small English model at least\n",
    "SPACY_LANG_MODEL = 'en_core_web_sm'\n",
    "\n",
    "try:\n",
    "    import en_core_web_sm\n",
    "except:\n",
    "    import spacy.cli\n",
    "    spacy.cli.download(SPACY_LANG_MODEL)\n",
    "\n",
    "# Load a model that a text is parsed against\n",
    "nlp = spacy.load(SPACY_LANG_MODEL)"
   ]
  },
  {
   "cell_type": "markdown",
   "id": "68fdc44e",
   "metadata": {},
   "source": [
    "To call on `spacy`, we need to create tokenised document representation of the text (conveniently, the original text version is also stored as part of the object)."
   ]
  },
  {
   "cell_type": "code",
   "execution_count": 10,
   "id": "afabd23d",
   "metadata": {
    "lines_to_next_cell": 0,
    "run_control": {
     "marked": false
    },
    "tags": [
     "active-ipynb"
    ]
   },
   "outputs": [],
   "source": [
    "doc = nlp(txt)"
   ]
  },
  {
   "cell_type": "markdown",
   "id": "1754524c",
   "metadata": {},
   "source": [
    "One way of using readability measures would be to set reading rates dynamically for each markdown cell based on calculated readability scores."
   ]
  },
  {
   "cell_type": "code",
   "execution_count": 12,
   "id": "247c7905",
   "metadata": {},
   "outputs": [],
   "source": [
    "from .text_stats import text_stats_summary"
   ]
  },
  {
   "cell_type": "markdown",
   "id": "dedab92d",
   "metadata": {
    "lines_to_next_cell": 2
   },
   "source": [
    "The following statistics are providied by `text_stats_summary`.\n",
    "\n",
    "Basic counts:\n",
    "\n",
    "- `n_chars`\n",
    "- `n_chars_per_word`\n",
    "- `n_long_words`\n",
    "- `n_monosyllable_words`\n",
    "- `n_polysyllable_words`\n",
    "- `n_sents`\n",
    "- `n_syllables`\n",
    "- `n_syllables_per_word`\n",
    "- `n_unique_words`\n",
    "- `n_words`\n",
    "- `sentence_lengths`\n",
    "- `sentence_length_mean`\n",
    "- `sentence_length_median`\n",
    "- `sentence_length_stdev`\n",
    "\n",
    "\n",
    "\n",
    "Readability:\n",
    "\n",
    "- `automated_readability_index`\n",
    "- `coleman_liau_index`\n",
    "- `flesch_kincaid_grade_level`\n",
    "- `flesch_reading_ease`\n",
    "- `gunning_fog_index`\n",
    "- `smog_index`"
   ]
  },
  {
   "cell_type": "code",
   "execution_count": 13,
   "id": "a57c3c81",
   "metadata": {
    "tags": [
     "active-ipynb"
    ]
   },
   "outputs": [
    {
     "data": {
      "text/plain": [
       "({'n_chars': 252,\n",
       "  'n_words': 40,\n",
       "  'n_sents': 3,\n",
       "  'n_unique_words': 27,\n",
       "  'n_syllables': 73,\n",
       "  'n_monosyllable_words': 21,\n",
       "  'n_polysyllable_words': 13,\n",
       "  'n_long_words': 15,\n",
       "  'sentence_length_mean': 14.666666666666666,\n",
       "  'sentence_length_median': 18,\n",
       "  'sentence_length_stdev': 5.773502691896257,\n",
       "  'sentence_legths': [18, 18, 8]},\n",
       " {'flesch_reading_ease': 38.906666666666695,\n",
       "  'flesch_kincaid_grade_level': 11.145,\n",
       "  'automated_readability_index': 14.909666666666666,\n",
       "  'coleman_liau_index': 19.023999999999997,\n",
       "  'smog_index': None,\n",
       "  'gunning_fog_index': 18.333333333333336})"
      ]
     },
     "execution_count": 13,
     "metadata": {},
     "output_type": "execute_result"
    }
   ],
   "source": [
    "counts, readability = text_stats_summary(doc)\n",
    "counts, readability"
   ]
  },
  {
   "cell_type": "markdown",
   "id": "92bf01b5",
   "metadata": {},
   "source": [
    "Also pull out notable features in a text, such as acronyms and key terms, which may be useful as part of a notebook summary."
   ]
  },
  {
   "cell_type": "code",
   "execution_count": 15,
   "id": "8e6762fe",
   "metadata": {},
   "outputs": [],
   "source": [
    "# Extract acronyms and keyterms\n",
    "from .text_stats import extract_acronyms, extract_keyterms"
   ]
  },
  {
   "cell_type": "code",
   "execution_count": 16,
   "id": "6a390bb3",
   "metadata": {
    "tags": [
     "active-ipynb"
    ]
   },
   "outputs": [
    {
     "data": {
      "text/plain": [
       "{}"
      ]
     },
     "execution_count": 16,
     "metadata": {},
     "output_type": "execute_result"
    }
   ],
   "source": [
    "extract_acronyms(doc)"
   ]
  },
  {
   "cell_type": "code",
   "execution_count": 17,
   "id": "c7a4643c",
   "metadata": {
    "tags": [
     "active-ipynb"
    ]
   },
   "outputs": [
    {
     "data": {
      "text/plain": [
       "ValueError('Iterable over raw text documents expected, string object received.')"
      ]
     },
     "metadata": {},
     "output_type": "display_data"
    }
   ],
   "source": [
    "try:\n",
    "    extract_keyterms(doc)\n",
    "except Exception as e:\n",
    "    #raise(e)\n",
    "    display(e)"
   ]
  },
  {
   "cell_type": "markdown",
   "id": "d3c02f5e",
   "metadata": {},
   "source": [
    "As well as using measures provided by off-the-shelf packages, it's also useful to define some simple metrics of our own that don't appear in other packages."
   ]
  },
  {
   "cell_type": "markdown",
   "id": "081e0344",
   "metadata": {},
   "source": [
    "To start with, let's try to estimate the notebook length as it appears on screen by calculating how many \"screen lines\" a markdown cell is likely to take up. This can be calculated by splitting long lines of text over multiple lines based on a screen line width parameter."
   ]
  },
  {
   "cell_type": "code",
   "execution_count": 18,
   "id": "f372823f",
   "metadata": {},
   "outputs": [],
   "source": [
    "import textwrap\n",
    "\n",
    "def _count_screen_lines(txt, width=LINE_WIDTH):\n",
    "    \"\"\"Count the number of screen lines that a markdown cell takes up.\"\"\"\n",
    "    ll = txt.split('\\n\\n')\n",
    "    _ll = []\n",
    "    for l in ll:\n",
    "        #Model screen flow: split a line if it is more than `width` characters long\n",
    "        _ll=_ll+textwrap.wrap(l, width)\n",
    "    n_screen_lines = len(_ll)\n",
    "    return n_screen_lines"
   ]
  },
  {
   "cell_type": "code",
   "execution_count": 19,
   "id": "8b75deb8",
   "metadata": {
    "tags": [
     "active-ipynb"
    ]
   },
   "outputs": [
    {
     "data": {
      "text/plain": [
       "2"
      ]
     },
     "execution_count": 19,
     "metadata": {},
     "output_type": "execute_result"
    }
   ],
   "source": [
    "screen_txt='As well as \"text\", markdown cells may contain cell blocks. The following is a basic report generator for summarising key statistical properties of code blocks. (We will see later an alternative way of calculating such metrics for well form Python code at least.)'\n",
    "_count_screen_lines(screen_txt)"
   ]
  },
  {
   "cell_type": "markdown",
   "id": "72c970ba",
   "metadata": {},
   "source": [
    "As well as \"text\", markdown cells may contain cell blocks. The following is a basic report generator for summarising key statistical propererties of code blocks. (We will see later an alternative way of calculating such metrics for well form Python code at least.)"
   ]
  },
  {
   "cell_type": "code",
   "execution_count": 20,
   "id": "a3f5df53",
   "metadata": {},
   "outputs": [],
   "source": [
    "def _code_block_summarise(lines,\n",
    "                          n_blank_code_lines = 0,\n",
    "                          n_single_line_comment_code_lines = 0,\n",
    "                          n_code_lines = 0):\n",
    "    \n",
    "    lines = lines.splitlines() if isinstance(lines, str) else lines\n",
    "    \n",
    "    #if lines[0].startwsith('%%'): \n",
    "        ##block magic - we could detect which?\n",
    "        #This would let us report on standard block magic such as %%bash\n",
    "        #as well as custom magic such as %%sql\n",
    "    for l in lines:\n",
    "        if not l.strip():\n",
    "            n_blank_code_lines = n_blank_code_lines + 1\n",
    "        elif l.strip().startswith(('#')): #Also pattern match \"\"\".+\"\"\" and '''.+'''\n",
    "            n_single_line_comment_code_lines = n_single_line_comment_code_lines + 1\n",
    "            #How should we detect block comments?\n",
    "        #elif l.strip().startswith(('!')):\n",
    "            ## IPython shell command\n",
    "        #elif l.startswith('%load_ext'):\n",
    "            ##Import some magic - we could detect which?\n",
    "        else:\n",
    "            n_code_lines = n_code_lines + 1\n",
    "    return n_blank_code_lines, n_single_line_comment_code_lines, n_code_lines"
   ]
  },
  {
   "cell_type": "markdown",
   "id": "b4cdf72f",
   "metadata": {},
   "source": [
    "We can use the code block summary in a more general report on \"features\" within a markdown cell (sentence statistics are handled elsewhere):"
   ]
  },
  {
   "cell_type": "code",
   "execution_count": 21,
   "id": "ebc39032",
   "metadata": {},
   "outputs": [],
   "source": [
    "def _report_md_features(txt):\n",
    "    \"\"\"Report on features in markdown documents.\n",
    "        For example, number of headings or paragraphs, or code block analysis.\"\"\"\n",
    "    n_headers = 0\n",
    "    n_paras = 0\n",
    "    n_total_code_lines = 0\n",
    "    n_code_lines = 0\n",
    "    n_blank_code_lines = 0\n",
    "    n_single_line_comment_code_lines = 0\n",
    "\n",
    "    in_code_block = False\n",
    "    \n",
    "    n_screen_lines = _count_screen_lines(txt)\n",
    "                        \n",
    "    #Markdown processor ignores whitespace at start and end of a markdown cell\n",
    "    txt = txt.strip()\n",
    "    \n",
    "    n_code_blocks = 0\n",
    "    \n",
    "    #We will see how to improve the handling of code blocks in markdown cells later\n",
    "    for l in txt.split('\\n'):\n",
    "        if l.strip().startswith('```'):\n",
    "            in_code_block = not in_code_block\n",
    "            if in_code_block:\n",
    "                n_code_blocks = n_code_blocks + 1\n",
    "        elif in_code_block:\n",
    "            n_total_code_lines = n_total_code_lines + 1\n",
    "            n_blank_code_lines, n_single_line_comment_code_lines, \\\n",
    "                n_code_lines = _code_block_summarise(l,\n",
    "                                                     n_blank_code_lines,\n",
    "                                                     n_single_line_comment_code_lines,\n",
    "                                                     n_code_lines)\n",
    "        elif l.startswith('#'):\n",
    "            #Markdown heading\n",
    "            n_headers = n_headers + 1\n",
    "        elif not l.strip():\n",
    "            #A paragraph is identified by an double end of line (\\n\\n) outside a code block\n",
    "            #So if we have an empty line that signifies a paragraph break?\n",
    "            n_paras = n_paras + 1\n",
    "            \n",
    "    n_code = (n_total_code_lines, n_code_lines, \\\n",
    "              n_blank_code_lines, n_single_line_comment_code_lines)\n",
    "    \n",
    "    return n_headers, n_paras, n_screen_lines, n_code_blocks, n_code"
   ]
  },
  {
   "cell_type": "markdown",
   "id": "12c3220d",
   "metadata": {},
   "source": [
    "So for example, the features we can report on might include the number of headings paragraphs, screen lines, or code block features."
   ]
  },
  {
   "cell_type": "code",
   "execution_count": 22,
   "id": "60c74c62",
   "metadata": {
    "tags": [
     "active-ipynb"
    ]
   },
   "outputs": [
    {
     "data": {
      "text/plain": [
       "(1, 3, 4, 0, (0, 0, 0, 0))"
      ]
     },
     "execution_count": 22,
     "metadata": {},
     "output_type": "execute_result"
    }
   ],
   "source": [
    "n_headers, n_paras, n_screen_lines, n_code_blocks, n_code = _report_md_features(txt)\n",
    "n_headers, n_paras, n_screen_lines, n_code_blocks, n_code"
   ]
  },
  {
   "cell_type": "code",
   "execution_count": 23,
   "id": "2f7996f0",
   "metadata": {
    "tags": [
     "active-ipynb"
    ]
   },
   "outputs": [
    {
     "data": {
      "text/plain": [
       "(0, 0, 0, 0)"
      ]
     },
     "execution_count": 23,
     "metadata": {},
     "output_type": "execute_result"
    }
   ],
   "source": [
    "(n_total_code_lines, n_code_lines, n_blank_code_lines, n_single_line_comment_code_lines) = n_code\n",
    "n_total_code_lines, n_code_lines, n_blank_code_lines, n_single_line_comment_code_lines"
   ]
  },
  {
   "cell_type": "markdown",
   "id": "068f25b1",
   "metadata": {},
   "source": [
    "#### Code Blocks in Markdown Cells\n",
    "A question arises when we have code blocks appearing in markdown cells. How should these be treated? Should we report the code toward markdown counts, or should we separately treat the code, discounting it from markdown word counts but reporting it as \"code in markdown\"?\n",
    "\n",
    "Another approach might be to include and codes of block appearing in markdown cells as part of the markdown word count, but provide an additional report identifying how many lines of code appeared as part of the markdown."
   ]
  },
  {
   "cell_type": "markdown",
   "id": "1a84c24b",
   "metadata": {},
   "source": [
    "The `excode` package (renamed [`exdown`](https://github.com/nschloe/exdown), now deprecated in favour of [`pytest-codeblocks`](https://github.com/nschloe/pytest-codeblocks/)) provides an easy way of grabbing code blocks from markdown text, so we might be able to use that to mprove the handling of code blocks inside markdown cells.\n",
    "\n",
    "Could we also just use the detected code in a replace to strip out the code? eg when checking headers?\n",
    "Lets grab a simple text case of some markdown containing some code blocks:"
   ]
  },
  {
   "cell_type": "code",
   "execution_count": 24,
   "id": "a03c70ca",
   "metadata": {
    "tags": [
     "active-ipynb"
    ]
   },
   "outputs": [
    {
     "name": "stdout",
     "output_type": "stream",
     "text": [
      "This cell contains two code blocks.\n",
      "\n",
      "Here's one:\n",
      "\n",
      "```python\n",
      "import pandas\n",
      "\n",
      "#Create a dataframe\n",
      "df = pd.DataFrame()\n",
      "```\n",
      "\n",
      "and here's another:\n",
      "\n",
      "```python\n",
      "\n",
      "import pandas\n",
      "\n",
      "#Create a dataframe\n",
      "df = pd.DataFrame()\n",
      "\n",
      "```\n",
      "\n",
      "So that's two...\n"
     ]
    }
   ],
   "source": [
    "mc = nb.cells[2]['source']\n",
    "print(mc)"
   ]
  },
  {
   "cell_type": "markdown",
   "id": "5817832f",
   "metadata": {},
   "source": [
    "Let's see if we can extract those code blocks..."
   ]
  },
  {
   "cell_type": "code",
   "execution_count": 25,
   "id": "7d893a3c",
   "metadata": {},
   "outputs": [],
   "source": [
    "# Deprecated in favour of pytest-codeblocks\n",
    "# import excode\n",
    "\n",
    "import io\n",
    "from pytest_codeblocks import extract_from_buffer"
   ]
  },
  {
   "cell_type": "code",
   "execution_count": 26,
   "id": "03d37b2c",
   "metadata": {
    "tags": [
     "active-ipynb"
    ]
   },
   "outputs": [
    {
     "data": {
      "text/plain": [
       "[CodeBlock(code='import pandas\\n\\n#Create a dataframe\\ndf = pd.DataFrame()\\n', lineno=5, syntax='python', expected_output=None, expected_output_ignore_whitespace=False, importorskip=None, marks=[]),\n",
       " CodeBlock(code='\\nimport pandas\\n\\n#Create a dataframe\\ndf = pd.DataFrame()\\n\\n', lineno=14, syntax='python', expected_output=None, expected_output_ignore_whitespace=False, importorskip=None, marks=[])]"
      ]
     },
     "execution_count": 26,
     "metadata": {},
     "output_type": "execute_result"
    }
   ],
   "source": [
    "#excode seems to expect a file buffer...\n",
    "extract_from_buffer(io.StringIO(mc))"
   ]
  },
  {
   "cell_type": "markdown",
   "id": "c86dcadd",
   "metadata": {},
   "source": [
    "We can now report on the structure of code blocks in markdown cells more directly:"
   ]
  },
  {
   "cell_type": "code",
   "execution_count": 27,
   "id": "755ad5e0",
   "metadata": {},
   "outputs": [],
   "source": [
    "def code_block_report(c):\n",
    "    \"\"\"Generate simple code report when passed a list of code lines\n",
    "        or a string containing multiple `\\n` separated code lines.\"\"\"\n",
    "    \n",
    "    # Grab code from extracted CodeBlock object\n",
    "    c = c if isinstance(c, str) else c.code\n",
    "    \n",
    "    n_total_code_lines = 0\n",
    "    n_code_lines = 0\n",
    "    n_blank_code_lines = 0\n",
    "    n_single_line_comment_code_lines = 0\n",
    "    \n",
    "    #We won't count leading or lagging empty lines as code lines...\n",
    "    lines = c.strip().splitlines() if isinstance(c, str) else c\n",
    "        \n",
    "    #print(lines)\n",
    "    \n",
    "    n_total_code_lines = len(lines)\n",
    "    \n",
    "    n_blank_code_lines, n_single_line_comment_code_lines, \\\n",
    "        n_code_lines = _code_block_summarise(lines,\n",
    "                                             n_blank_code_lines,\n",
    "                                             n_single_line_comment_code_lines,\n",
    "                                             n_code_lines)\n",
    "    \n",
    "    return (n_total_code_lines, n_blank_code_lines,\\\n",
    "            n_single_line_comment_code_lines, n_code_lines)"
   ]
  },
  {
   "cell_type": "markdown",
   "id": "14575df6",
   "metadata": {},
   "source": [
    "Running the above function should generate some simple code statistics:"
   ]
  },
  {
   "cell_type": "code",
   "execution_count": 28,
   "id": "241d3c86",
   "metadata": {
    "tags": [
     "active-ipynb"
    ]
   },
   "outputs": [
    {
     "name": "stdout",
     "output_type": "stream",
     "text": [
      "This cell contains two code blocks.\n",
      "\n",
      "Here's one:\n",
      "\n",
      "```python\n",
      "import pandas\n",
      "\n",
      "#Create a dataframe\n",
      "df = pd.DataFrame()\n",
      "```\n",
      "\n",
      "and here's another:\n",
      "\n",
      "```python\n",
      "\n",
      "import pandas\n",
      "\n",
      "#Create a dataframe\n",
      "df = pd.DataFrame()\n",
      "\n",
      "```\n",
      "\n",
      "So that's two...\n",
      "4 1 1 2\n",
      "4 1 1 2\n"
     ]
    }
   ],
   "source": [
    "print(mc)\n",
    "for c in extract_from_buffer(io.StringIO(mc)):\n",
    "    (n_total_code_lines, n_blank_code_lines, \\\n",
    "         n_single_line_comment_code_lines, n_code_lines) = code_block_report(c)\n",
    "\n",
    "    print(n_total_code_lines, n_blank_code_lines, \\\n",
    "          n_single_line_comment_code_lines, n_code_lines )"
   ]
  },
  {
   "cell_type": "markdown",
   "id": "5c1f7eac",
   "metadata": {},
   "source": [
    "We could also use the `radon` code analyser (which does count empty lines as code lines unless we explictly strip them).\n",
    "\n",
    "However, it should be noted that the `radon` code analysis relies on well formed Python code that can be loaded as into the Python AST parser. This means that code that doesn't parse as valid Python, either because it contains an error or because the code is not actually Python code (for example, in course materials we make use of SQL block magic to allow us to write SQL code in a code cell).\n",
    "\n",
    "The `radon` parser will also report an error if it comes across IPython line or cell magic code, or `!` prefixed shell commands.\n",
    "\n",
    "We will see later how we can start to cleanse a code string of IPython `!` and `%` prefixed directives when we consider parsing code cells."
   ]
  },
  {
   "cell_type": "code",
   "execution_count": 29,
   "id": "2e34d8b9",
   "metadata": {},
   "outputs": [],
   "source": [
    "#%pip install radon\n",
    "from radon.raw import analyze"
   ]
  },
  {
   "cell_type": "code",
   "execution_count": 30,
   "id": "829c2701",
   "metadata": {
    "tags": [
     "active-ipynb"
    ]
   },
   "outputs": [
    {
     "name": "stdout",
     "output_type": "stream",
     "text": [
      "Module(loc=4, lloc=2, sloc=2, comments=1, multi=0, blank=1, single_comments=1)\n",
      "Module(loc=4, lloc=2, sloc=2, comments=1, multi=0, blank=1, single_comments=1)\n"
     ]
    },
    {
     "data": {
      "text/plain": [
       "(4, 2, 2, 1, 0, 1, 1)"
      ]
     },
     "execution_count": 30,
     "metadata": {},
     "output_type": "execute_result"
    }
   ],
   "source": [
    "for c in extract_from_buffer(io.StringIO(mc)):\n",
    "    c = c.code\n",
    "    r = analyze(c.strip())\n",
    "    print(r)\n",
    "r.loc, r.lloc, r.sloc, r.comments, r.multi, r.blank, r.single_comments"
   ]
  },
  {
   "cell_type": "markdown",
   "id": "36593c91",
   "metadata": {},
   "source": [
    "We can bundle up the `radon` analyzer to make it a little easier to call for our purposes:"
   ]
  },
  {
   "cell_type": "code",
   "execution_count": 31,
   "id": "24d569c1",
   "metadata": {},
   "outputs": [],
   "source": [
    "def r_analyze(c):\n",
    "    \"\"\"Analyse a code string using radon.analyze.\"\"\"\n",
    "    c = c if isinstance(c, str) else c.code\n",
    "    r = analyze(c.strip())\n",
    "    n_total_code_lines = r.loc\n",
    "    n_blank_code_lines = r.blank\n",
    "    n_single_line_comment_code_lines = r.comments\n",
    "    n_code_lines = r.sloc\n",
    "    return (n_total_code_lines, n_blank_code_lines, \\\n",
    "            n_single_line_comment_code_lines, n_code_lines)"
   ]
  },
  {
   "cell_type": "markdown",
   "id": "299facbd",
   "metadata": {},
   "source": [
    "We can then simply call `r_analyze()` function with a code string:"
   ]
  },
  {
   "cell_type": "code",
   "execution_count": 32,
   "id": "e6e05dc2",
   "metadata": {
    "tags": [
     "active-ipynb"
    ]
   },
   "outputs": [
    {
     "name": "stdout",
     "output_type": "stream",
     "text": [
      "4 1 1 2\n",
      "4 1 1 2\n"
     ]
    }
   ],
   "source": [
    "for c in extract_from_buffer(io.StringIO(mc)):\n",
    "    (n_total_code_lines, n_blank_code_lines, \\\n",
    "         n_single_line_comment_code_lines, n_code_lines) = r_analyze(c)\n",
    "\n",
    "    print(n_total_code_lines, n_blank_code_lines, \\\n",
    "          n_single_line_comment_code_lines, n_code_lines)"
   ]
  },
  {
   "cell_type": "markdown",
   "id": "f7007212",
   "metadata": {},
   "source": [
    "### Code Reading (and Execution) Time\n",
    "\n",
    "It would be useful if we had a heuristic for code reading time.\n",
    "\n",
    "One approach would be to tokenise the code and estimate reading time from a simple \"tokens per minute\" reading rate, or use a reading rate appropriate for \"difficult\" text. Another approach might be to try to make use of code complexity scores and code length.\n",
    "\n",
    "A pragmatic way may just be to estimate based on lines of code, with a nominal reading time allocated to each line of code."
   ]
  },
  {
   "cell_type": "code",
   "execution_count": 33,
   "id": "3a3b9dbb",
   "metadata": {},
   "outputs": [],
   "source": [
    "def code_reading_time(n_code_lines, n_single_line_comment_code_lines, line_time=CODE_LINE_READING_TIME):\n",
    "    \"\"\"Crude reading time estimate for a code block.\"\"\"\n",
    "    code_reading_time = line_time * (n_code_lines + n_single_line_comment_code_lines)\n",
    "    return code_reading_time"
   ]
  },
  {
   "cell_type": "markdown",
   "id": "4d27491a",
   "metadata": {},
   "source": [
    "The way we currently process code in markdown cells, it will be timed at the standard reading rate. It may be appropriate to add a simple modifier that also adds a \"code reading overhead\" to the reading time based on the amount of code in a markdown cell.\n",
    "\n",
    "For code in code cells, rather than code blocks in markdown cells, might also be worth exploring *code execution time*, that is, an overhead associated with running each code cell. A crude way of calculating this would be to levy a fixed amount of time to account for running the code cell and inspecting the result. A more considered approach would look to cell profiling / execution time logs and code cell outputs in a run notebook."
   ]
  },
  {
   "cell_type": "markdown",
   "id": "a1323cef",
   "metadata": {},
   "source": [
    "### Custom Report Aggregator\n",
    "\n",
    "For convenience, we can bundle up the custom metrics we have created into a function that returns a single report object."
   ]
  },
  {
   "cell_type": "code",
   "execution_count": 34,
   "id": "503e058e",
   "metadata": {},
   "outputs": [],
   "source": [
    "import math\n",
    "\n",
    "def process_extras(doc):\n",
    "    \"\"\"Generate a dict containing additional metrics.\"\"\"\n",
    "\n",
    "    n_headers, n_paras, n_screen_lines, n_code_blocks, n_code = _report_md_features(doc.text)\n",
    "    (n_total_code_lines, n_code_lines, n_blank_code_lines, n_single_line_comment_code_lines) = n_code\n",
    "\n",
    "    _reading_time = readtime.of_markdown(doc.text, wpm=READING_RATE).delta.total_seconds()\n",
    "    # Add reading time overhead for code\n",
    "    line_of_code_overhead = 1 #time in seconds to add to reading of each code line\n",
    "    _reading_time = _reading_time + code_reading_time(n_code_lines, n_single_line_comment_code_lines,\n",
    "                                                     line_of_code_overhead)\n",
    "\n",
    "    extras = {\n",
    "        \"n_headers\": n_headers,\n",
    "        \"n_paras\": n_paras,\n",
    "        \"n_screen_lines\": n_screen_lines,\n",
    "        \"n_code_blocks\": n_code_blocks,\n",
    "        \"n_total_code_lines\": n_total_code_lines,\n",
    "        \"n_code_lines\": n_code_lines,\n",
    "        \"n_blank_code_lines\": n_blank_code_lines,\n",
    "        \"n_single_line_comment_code_lines\": n_single_line_comment_code_lines,\n",
    "        \"reading_time_s\": _reading_time,\n",
    "        \"reading_time_mins\": math.ceil(_reading_time / 60),\n",
    "        # The following are both listy, so we need to handle them when we move to a dataframe\n",
    "        # TO DO  - sklearn numpy issue?\n",
    "        \"acronyms\": extract_acronyms(doc),\n",
    "        \"keyterms\": {}# extract_keyterms(doc, n=10),\n",
    "    }\n",
    "    return extras"
   ]
  },
  {
   "cell_type": "markdown",
   "id": "61f542d1",
   "metadata": {},
   "source": [
    "Running the `process_extras()` function on a `doc` object returns the extra metrics as keyed items in a single `dict`:"
   ]
  },
  {
   "cell_type": "code",
   "execution_count": 35,
   "id": "aac8a61f",
   "metadata": {
    "tags": [
     "active-ipynb"
    ]
   },
   "outputs": [
    {
     "data": {
      "text/plain": [
       "({'n_chars': 252,\n",
       "  'n_words': 40,\n",
       "  'n_sents': 3,\n",
       "  'n_unique_words': 27,\n",
       "  'n_syllables': 73,\n",
       "  'n_monosyllable_words': 21,\n",
       "  'n_polysyllable_words': 13,\n",
       "  'n_long_words': 15,\n",
       "  'sentence_length_mean': 14.666666666666666,\n",
       "  'sentence_length_median': 18,\n",
       "  'sentence_length_stdev': 5.773502691896257,\n",
       "  'sentence_legths': [18, 18, 8]},\n",
       " {'flesch_reading_ease': 38.906666666666695,\n",
       "  'flesch_kincaid_grade_level': 11.145,\n",
       "  'automated_readability_index': 14.909666666666666,\n",
       "  'coleman_liau_index': 19.023999999999997,\n",
       "  'smog_index': None,\n",
       "  'gunning_fog_index': 18.333333333333336},\n",
       " {'n_headers': 1,\n",
       "  'n_paras': 3,\n",
       "  'n_screen_lines': 4,\n",
       "  'n_code_blocks': 0,\n",
       "  'n_total_code_lines': 0,\n",
       "  'n_code_lines': 0,\n",
       "  'n_blank_code_lines': 0,\n",
       "  'n_single_line_comment_code_lines': 0,\n",
       "  'reading_time_s': 25.0,\n",
       "  'reading_time_mins': 1,\n",
       "  'acronyms': {},\n",
       "  'keyterms': {}})"
      ]
     },
     "execution_count": 35,
     "metadata": {},
     "output_type": "execute_result"
    }
   ],
   "source": [
    "counts, readability = text_stats_summary(doc)\n",
    "counts, readability, process_extras(doc)"
   ]
  },
  {
   "cell_type": "markdown",
   "id": "2211f4b8",
   "metadata": {},
   "source": [
    "### Generate a Whole Notebook Markdown Report\n",
    "\n",
    "The whole notebook report can come in various flavours:\n",
    "\n",
    "- top level summary statistics that merge all the markdown content into a single cell and then analyse that;\n",
    "- aggregated cell level statistics that summarise the statistics calculated for each markdown cell separately;\n",
    "- individual cell level statistics that report the statistics for each cell separately.\n",
    "\n",
    "Whilst the individual cell level statistics presented in a textual fashion may be overkill, it may be useful to generate visual displays of a notebook that graphically summarise its structure."
   ]
  },
  {
   "cell_type": "markdown",
   "id": "e6276c9f",
   "metadata": {},
   "source": [
    "#### Top-Level Summary\n",
    "\n",
    "Let's start with a report that munges the all the markdown text together and report on that..."
   ]
  },
  {
   "cell_type": "code",
   "execution_count": 36,
   "id": "af4b15f1",
   "metadata": {},
   "outputs": [],
   "source": [
    "def process_notebook_full_md(nb):\n",
    "    \"\"\"Given a notebook, return all the markdown cell content as one string,\n",
    "        and all the code cell content as another string.\"\"\"\n",
    "    \n",
    "    txt = []\n",
    "    code = []\n",
    "    for cell in nb.cells:\n",
    "        if cell['cell_type']=='markdown':\n",
    "            txt.append(cell['source'])\n",
    "        elif cell['cell_type']=='code':\n",
    "            code.append( cell['source'])\n",
    "\n",
    "    doc = nlp('\\n\\n'.join(txt))\n",
    "    code = '\\n\\n'.join(code)\n",
    "    \n",
    "    return doc, code"
   ]
  },
  {
   "cell_type": "markdown",
   "id": "618b2195",
   "metadata": {},
   "source": [
    "The `process_notebook_full_md()` function takes a notebook object and returns two strings: one containing all the notebook's markdown cell content, one containing all its code cell content."
   ]
  },
  {
   "cell_type": "code",
   "execution_count": 37,
   "id": "51cece9b",
   "metadata": {
    "tags": [
     "active-ipynb"
    ]
   },
   "outputs": [
    {
     "data": {
      "text/plain": [
       "('# Test Notebook for Notebook Profiler\\n\\nThis notebook provides a test case for the notebook profiler.\\n\\nIt includes a range of markdown and code cells intended to test various features of the profiler.\\n\\nNote that this notebook does not necessarily run...\\n\\n## Markdown Cells With Cod',\n",
       " '# This is a code cell\\nimport pandas\\n\\n#Create a dataframe\\ndf = pd.DataFrame()\\n\\n# This is a code cell with a magic...\\n\\n%matplotlib inline\\nimport time\\n\\ndef fn():\\n    \"\"\"How is the docstring handled?\"\"\"\\n    pass\\n\\n%load_ext sql\\n\\n%%sql\\nSELECT * FROM TABLE;')"
      ]
     },
     "execution_count": 37,
     "metadata": {},
     "output_type": "execute_result"
    }
   ],
   "source": [
    "full_doc, full_code = process_notebook_full_md(nb)\n",
    "full_doc.text[:280], full_code[:250]"
   ]
  },
  {
   "cell_type": "markdown",
   "id": "cc1337bb",
   "metadata": {},
   "source": [
    "Let's make things a bit more tabular in our reporting:"
   ]
  },
  {
   "cell_type": "code",
   "execution_count": 38,
   "id": "5a2fce1b",
   "metadata": {},
   "outputs": [],
   "source": [
    "import pandas as pd\n",
    "\n",
    "def process_notebook_md_doc(doc):\n",
    "    counts, readability = text_stats_summary(doc)\n",
    "    return pd.DataFrame([{'text':doc.text,\n",
    "                          **counts, **readability,\n",
    "                          **process_extras(doc)}])"
   ]
  },
  {
   "cell_type": "markdown",
   "id": "dae1cc89",
   "metadata": {},
   "source": [
    "Running the `process_notebook_md_doc()` function on a `doc` object returns a single row dataframe containing summary statistics calculated over the full markdown content of the notebook."
   ]
  },
  {
   "cell_type": "markdown",
   "id": "ca447815",
   "metadata": {},
   "source": [
    "counts, readability = text_stats_summary(doc)\n",
    "extras = process_extras(doc)"
   ]
  },
  {
   "cell_type": "code",
   "execution_count": 39,
   "id": "01b78754",
   "metadata": {
    "tags": [
     "active-ipynb"
    ]
   },
   "outputs": [
    {
     "data": {
      "text/html": [
       "<div>\n",
       "<style scoped>\n",
       "    .dataframe tbody tr th:only-of-type {\n",
       "        vertical-align: middle;\n",
       "    }\n",
       "\n",
       "    .dataframe tbody tr th {\n",
       "        vertical-align: top;\n",
       "    }\n",
       "\n",
       "    .dataframe thead th {\n",
       "        text-align: right;\n",
       "    }\n",
       "</style>\n",
       "<table border=\"1\" class=\"dataframe\">\n",
       "  <thead>\n",
       "    <tr style=\"text-align: right;\">\n",
       "      <th></th>\n",
       "      <th>text</th>\n",
       "      <th>n_chars</th>\n",
       "      <th>n_words</th>\n",
       "      <th>n_sents</th>\n",
       "      <th>n_unique_words</th>\n",
       "      <th>n_syllables</th>\n",
       "      <th>n_monosyllable_words</th>\n",
       "      <th>n_polysyllable_words</th>\n",
       "      <th>n_long_words</th>\n",
       "      <th>sentence_length_mean</th>\n",
       "      <th>...</th>\n",
       "      <th>n_screen_lines</th>\n",
       "      <th>n_code_blocks</th>\n",
       "      <th>n_total_code_lines</th>\n",
       "      <th>n_code_lines</th>\n",
       "      <th>n_blank_code_lines</th>\n",
       "      <th>n_single_line_comment_code_lines</th>\n",
       "      <th>reading_time_s</th>\n",
       "      <th>reading_time_mins</th>\n",
       "      <th>acronyms</th>\n",
       "      <th>keyterms</th>\n",
       "    </tr>\n",
       "  </thead>\n",
       "  <tbody>\n",
       "    <tr>\n",
       "      <th>0</th>\n",
       "      <td># Test Notebook for Notebook Profiler\\n\\nThis ...</td>\n",
       "      <td>829</td>\n",
       "      <td>136</td>\n",
       "      <td>9</td>\n",
       "      <td>61</td>\n",
       "      <td>206</td>\n",
       "      <td>50</td>\n",
       "      <td>26</td>\n",
       "      <td>31</td>\n",
       "      <td>17.555556</td>\n",
       "      <td>...</td>\n",
       "      <td>21</td>\n",
       "      <td>3</td>\n",
       "      <td>14</td>\n",
       "      <td>6</td>\n",
       "      <td>0</td>\n",
       "      <td>3</td>\n",
       "      <td>98.0</td>\n",
       "      <td>2</td>\n",
       "      <td>{}</td>\n",
       "      <td>{}</td>\n",
       "    </tr>\n",
       "  </tbody>\n",
       "</table>\n",
       "<p>1 rows × 31 columns</p>\n",
       "</div>"
      ],
      "text/plain": [
       "                                                text  n_chars  n_words  \\\n",
       "0  # Test Notebook for Notebook Profiler\\n\\nThis ...      829      136   \n",
       "\n",
       "   n_sents  n_unique_words  n_syllables  n_monosyllable_words  \\\n",
       "0        9              61          206                    50   \n",
       "\n",
       "   n_polysyllable_words  n_long_words  sentence_length_mean  ...  \\\n",
       "0                    26            31             17.555556  ...   \n",
       "\n",
       "   n_screen_lines  n_code_blocks n_total_code_lines  n_code_lines  \\\n",
       "0              21              3                 14             6   \n",
       "\n",
       "   n_blank_code_lines  n_single_line_comment_code_lines  reading_time_s  \\\n",
       "0                   0                                 3            98.0   \n",
       "\n",
       "  reading_time_mins  acronyms  keyterms  \n",
       "0                 2        {}        {}  \n",
       "\n",
       "[1 rows x 31 columns]"
      ]
     },
     "execution_count": 39,
     "metadata": {},
     "output_type": "execute_result"
    }
   ],
   "source": [
    "process_notebook_md_doc(full_doc)"
   ]
  },
  {
   "cell_type": "markdown",
   "id": "2e516da6",
   "metadata": {},
   "source": [
    "#### Check Images\n",
    "\n",
    "Using the monolithic markdown blob, we can parse the markdown to HTML and then process it to extract links, images etc."
   ]
  },
  {
   "cell_type": "code",
   "execution_count": 40,
   "id": "f493e81b",
   "metadata": {},
   "outputs": [],
   "source": [
    "import markdown\n",
    "from lxml import etree\n",
    "from pathlib import Path\n",
    "from nbformat.notebooknode import NotebookNode\n",
    "\n",
    "def make_html_tree(md):\n",
    "    \"\"\"Generate etree HTML structure from markdown text.\"\"\"\n",
    "    try:\n",
    "        html_tree = etree.HTML(f\"<div>{markdown.markdown(md)}</div>\")\n",
    "    except:\n",
    "        #print(f\"<div>{markdown.markdown(md)}</div>\")\n",
    "        print(f\"Error parsing markdown...\")\n",
    "        html_tree = None\n",
    "    return html_tree\n",
    "\n",
    "def get_images(html_tree):\n",
    "    \"\"\"Extract images and alt text from HTML tree.\"\"\"\n",
    "    images = []\n",
    "    for img in html_tree.xpath('//img'):\n",
    "        images.append((img.get('src'), img.get('alt')))\n",
    "\n",
    "    return images\n",
    "\n",
    "def get_links(html_tree):\n",
    "    \"\"\"Extract links and link text from HTML tree.\"\"\"\n",
    "    links = []\n",
    "    for link in html_tree.xpath('//a'):\n",
    "        links.append((link.text, link.get('href')))\n",
    "\n",
    "    return links\n",
    "\n",
    "def get_nb(nb, display_path=True):\n",
    "    \"\"\"Get notebook.\"\"\"\n",
    "    def _read_as_notebook(nb):\n",
    "        \"\"\"Read notebook from file.\"\"\"\n",
    "        # Have we been provided a path to a file?\n",
    "        path = Path(nb)\n",
    "        if path.is_file() and path.suffix == '.ipynb':\n",
    "            if display_path:\n",
    "                print(path)\n",
    "            with open(path) as f:\n",
    "                nb = nbformat.reads(f.read(), as_version=4)\n",
    "        else:\n",
    "            nb = None\n",
    "        return nb\n",
    "\n",
    "    nb = nb if isinstance(nb, NotebookNode) else _read_as_notebook(nb)\n",
    "    return nb\n",
    "\n",
    "def nb_md_links_and_images(nb):\n",
    "    \"\"\"Extract links and images from notebook.\"\"\"\n",
    "    def _nb_report(_nb):\n",
    "        \"\"\"Get report for a single notebook.\"\"\"\n",
    "        nb = get_nb(_nb)\n",
    "        if not nb:\n",
    "            return {\"notebook\": None, \"images\": [], \"links\": []}\n",
    "\n",
    "        full_doc, full_code = process_notebook_full_md(nb)\n",
    "        html_ = make_html_tree(full_doc.text)\n",
    "        if html_ is None:\n",
    "            print(f\"Error parsing HTML tree for {_nb}\")\n",
    "            return {\"notebook\": \"RAW\" if isinstance(_nb, NotebookNode) else str(_nb),\n",
    "                \"images\": [],\n",
    "                \"links\": []}\n",
    "\n",
    "        return {\"notebook\": \"RAW\" if isinstance(_nb, NotebookNode) else str(_nb),\n",
    "                \"images\": get_images(html_),\n",
    "                \"links\": get_links(html_)\n",
    "               }\n",
    "        \n",
    "    retvals = []\n",
    "\n",
    "    # If we are passed a directory path,\n",
    "    # let's recursively iterate through it\n",
    "    # and look for notebooks\n",
    "    # We could perhaps generalise more and also allow md files\n",
    "    # perhaps parsing to NotebookNode using jupytext?\n",
    "    if Path(nb).is_dir():\n",
    "        for p in sorted(Path(nb).rglob(\"*.ipynb\")):\n",
    "            if '.ipynb_checkpoints' not in p.parts:\n",
    "                retvals.append(_nb_report(p))\n",
    "    else:\n",
    "        retvals.append(_nb_report(nb))\n",
    "\n",
    "    return retvals"
   ]
  },
  {
   "cell_type": "code",
   "execution_count": 41,
   "id": "8baf164c",
   "metadata": {},
   "outputs": [],
   "source": [
    "def get_warnings(nb):\n",
    "    \"\"\"Iterate code cell outputs to identify std_error outputs.\"\"\"\n",
    "    def _get_warnings(nb):\n",
    "        _nb = get_nb(nb)\n",
    "        _warnings = []\n",
    "        for i, cell in enumerate(_nb[\"cells\"]):\n",
    "            if \"outputs\" in cell:\n",
    "                for output in cell[\"outputs\"]:\n",
    "                    if \"name\" in output and output[\"name\"] == \"stderr\":\n",
    "                        msg = output[\"text\"].split(\"\\n\")[0]\n",
    "                        _warnings.append((nb, i+1,\n",
    "                                          f'<pre><code>{cell[\"source\"]}</code></pre>',\n",
    "                                          msg))\n",
    "        return _warnings\n",
    "    warnings = []\n",
    "    if Path(nb).is_dir():\n",
    "        for p in sorted(Path(nb).rglob(\"*.ipynb\")):\n",
    "            if '.ipynb_checkpoints' not in p.parts:\n",
    "                warnings.extend(_get_warnings(p))\n",
    "    else:\n",
    "        warnings.extend(_get_warnings(nb))\n",
    "\n",
    "    return warnings"
   ]
  },
  {
   "cell_type": "code",
   "execution_count": 42,
   "id": "8ff975d4",
   "metadata": {
    "tags": [
     "active-ipynb"
    ]
   },
   "outputs": [
    {
     "data": {
      "text/plain": [
       "[]"
      ]
     },
     "execution_count": 42,
     "metadata": {},
     "output_type": "execute_result"
    }
   ],
   "source": [
    "get_warnings(\".\")"
   ]
  },
  {
   "cell_type": "code",
   "execution_count": 43,
   "id": "a1ed20ba",
   "metadata": {
    "tags": [
     "active-ipynb"
    ]
   },
   "outputs": [
    {
     "name": "stdout",
     "output_type": "stream",
     "text": [
      "[('./broke.png', 'alt-text')]\n",
      "[('my inline link', 'http://google.com'), ('non inline link', 'http://yahoo.com')]\n"
     ]
    }
   ],
   "source": [
    "body_markdown = \"This is an ![alt-text](./broke.png) [my inline link](http://google.com). This is a [non inline link][1]\\r\\n\\r\\n  [1]: http://yahoo.com\"\n",
    "\n",
    "html_ = make_html_tree(body_markdown)\n",
    "\n",
    "print(get_images(html_))\n",
    "print(get_links(html_))\n",
    "#full_doc"
   ]
  },
  {
   "cell_type": "code",
   "execution_count": 44,
   "id": "52556b82",
   "metadata": {
    "tags": [
     "active-ipynb"
    ]
   },
   "outputs": [
    {
     "name": "stdout",
     "output_type": "stream",
     "text": [
      "../Notebook_profile_test.ipynb\n",
      "../../tm351/Part 02 Notebooks/02.1 Pandas Dataframes.ipynb\n",
      "../../tm351/Part 02 Notebooks/02.2.0 Data file formats - file encodings.ipynb\n",
      "../../tm351/Part 02 Notebooks/02.2.1 Data file formats - CSV.ipynb\n",
      "../../tm351/Part 02 Notebooks/02.2.2 Data file formats - JSON.ipynb\n",
      "../../tm351/Part 02 Notebooks/02.2.3 Data file formats - other.ipynb\n",
      "../../tm351/Part 02 Notebooks/02.A Appendix – Fake Data Generation (Optional).ipynb\n"
     ]
    },
    {
     "data": {
      "text/plain": [
       "[{'notebook': '../../tm351/Part 02 Notebooks/02.1 Pandas Dataframes.ipynb',\n",
       "  'images': [],\n",
       "  'links': [(None,\n",
       "    'https://pandas.pydata.org/pandas-docs/stable/user_guide/dsintro.html')]},\n",
       " {'notebook': '../../tm351/Part 02 Notebooks/02.2.0 Data file formats - file encodings.ipynb',\n",
       "  'images': [],\n",
       "  'links': []},\n",
       " {'notebook': '../../tm351/Part 02 Notebooks/02.2.1 Data file formats - CSV.ipynb',\n",
       "  'images': [],\n",
       "  'links': [(None,\n",
       "    'https://pandas.pydata.org/pandas-docs/stable/reference/api/pandas.read_csv.html'),\n",
       "   (None,\n",
       "    'https://pandas.pydata.org/pandas-docs/stable/reference/api/pandas.read_table.html'),\n",
       "   (None, 'https://pandas.pydata.org/docs/reference/api/pandas.read_csv.html'),\n",
       "   ('documentation',\n",
       "    'https://pandas.pydata.org/pandas-docs/stable/reference/api/pandas.read_csv.html'),\n",
       "   ('pandas.io.parsers.read_csv',\n",
       "    'http://pandas.pydata.org/pandas-docs/stable/generated/pandas.io.parsers.read_csv.html'),\n",
       "   ('pandas.DataFrame.to_csv',\n",
       "    'http://pandas.pydata.org/pandas-docs/stable/generated/pandas.DataFrame.to_csv.html'),\n",
       "   (None,\n",
       "    'https://pandas.pydata.org/pandas-docs/version/2.1/reference/api/pandas.DataFrame.astype.html'),\n",
       "   ('pandas.io.parsers.read_csv',\n",
       "    'http://pandas.pydata.org/pandas-docs/stable/generated/pandas.io.parsers.read_csv.html'),\n",
       "   (None, 'https://github.com/dateutil/dateutil/'),\n",
       "   (None, 'https://github.com/scrapinghub/dateparser')]},\n",
       " {'notebook': '../../tm351/Part 02 Notebooks/02.2.2 Data file formats - JSON.ipynb',\n",
       "  'images': [],\n",
       "  'links': [('Office of National Statistics (ONS) API',\n",
       "    'https://developer.ons.gov.uk/'),\n",
       "   (None,\n",
       "    'https://pandas.pydata.org/pandas-docs/stable/reference/api/pandas.read_json.html'),\n",
       "   (None,\n",
       "    'https://pandas.pydata.org/pandas-docs/stable/reference/api/pandas.json_normalize.html'),\n",
       "   ('pandas.DataFrame.to_json',\n",
       "    'https://pandas.pydata.org/pandas-docs/stable/reference/api/pandas.DataFrame.to_json.html')]},\n",
       " {'notebook': '../../tm351/Part 02 Notebooks/02.2.3 Data file formats - other.ipynb',\n",
       "  'images': [],\n",
       "  'links': [(None,\n",
       "    'http://pandas.pydata.org/pandas-docs/stable/generated/pandas.read_excel.html'),\n",
       "   (None, 'https://www.bbc.co.uk/news/technology-54423988')]},\n",
       " {'notebook': '../../tm351/Part 02 Notebooks/02.A Appendix – Fake Data Generation (Optional).ipynb',\n",
       "  'images': [],\n",
       "  'links': [(None, 'https://faker.readthedocs.io/en/master/'),\n",
       "   (None, 'https://github.com/dstl/Noisify'),\n",
       "   ('Gov.UK Guidance on Synthetic Data',\n",
       "    'https://www.gov.uk/government/publications/synthetic-data'),\n",
       "   ('Synthetic data for public good',\n",
       "    'https://datasciencecampus.ons.gov.uk/projects/synthetic-data-for-public-good/')]}]"
      ]
     },
     "execution_count": 44,
     "metadata": {},
     "output_type": "execute_result"
    }
   ],
   "source": [
    "nb_md_links_and_images(TEST_NOTEBOOK)\n",
    "TEST_DIR = '../../tm351/Part 02 Notebooks'\n",
    "test_links_images = nb_md_links_and_images(TEST_DIR)\n",
    "test_links_images"
   ]
  },
  {
   "cell_type": "markdown",
   "id": "78dc6985",
   "metadata": {},
   "source": [
    "Test links for liveness by reusing elements of https://github.com/innovationOUtside/ouxml-link-checker:"
   ]
  },
  {
   "cell_type": "code",
   "execution_count": 45,
   "id": "4eee774f",
   "metadata": {
    "tags": [
     "active-ipynb"
    ]
   },
   "outputs": [
    {
     "name": "stderr",
     "output_type": "stream",
     "text": [
      "100%|███████████████████████████████████████████| 19/19 [00:06<00:00,  2.97it/s]\n"
     ]
    },
    {
     "data": {
      "text/plain": [
       "{'https://faker.readthedocs.io/en/master/': [(True,\n",
       "   'https://faker.readthedocs.io/en/master/',\n",
       "   200,\n",
       "   'OK')],\n",
       " 'https://pandas.pydata.org/pandas-docs/stable/reference/api/pandas.read_table.html': [(True,\n",
       "   'https://pandas.pydata.org/pandas-docs/stable/reference/api/pandas.read_table.html',\n",
       "   200,\n",
       "   'OK')],\n",
       " 'https://github.com/dateutil/dateutil/': [(True,\n",
       "   'https://github.com/dateutil/dateutil/',\n",
       "   200,\n",
       "   'OK')],\n",
       " 'https://pandas.pydata.org/pandas-docs/version/2.1/reference/api/pandas.DataFrame.astype.html': [(True,\n",
       "   'https://pandas.pydata.org/pandas-docs/version/2.1/reference/api/pandas.DataFrame.astype.html',\n",
       "   200,\n",
       "   'OK')],\n",
       " 'https://pandas.pydata.org/pandas-docs/stable/reference/api/pandas.json_normalize.html': [(True,\n",
       "   'https://pandas.pydata.org/pandas-docs/stable/reference/api/pandas.json_normalize.html',\n",
       "   200,\n",
       "   'OK')],\n",
       " 'http://pandas.pydata.org/pandas-docs/stable/generated/pandas.io.parsers.read_csv.html': [(True,\n",
       "   'http://pandas.pydata.org/pandas-docs/stable/generated/pandas.io.parsers.read_csv.html',\n",
       "   200,\n",
       "   'OK')],\n",
       " 'https://www.bbc.co.uk/news/technology-54423988': [(True,\n",
       "   'https://www.bbc.co.uk/news/technology-54423988',\n",
       "   200,\n",
       "   'OK')],\n",
       " 'https://developer.ons.gov.uk/': [(True,\n",
       "   'https://developer.ons.gov.uk/',\n",
       "   200,\n",
       "   'OK')],\n",
       " 'https://github.com/dstl/Noisify': [(True,\n",
       "   'https://github.com/dstl/Noisify',\n",
       "   200,\n",
       "   'OK')],\n",
       " 'https://pandas.pydata.org/pandas-docs/stable/user_guide/dsintro.html': [(True,\n",
       "   'https://pandas.pydata.org/pandas-docs/stable/user_guide/dsintro.html',\n",
       "   200,\n",
       "   'OK')],\n",
       " 'https://pandas.pydata.org/pandas-docs/stable/reference/api/pandas.read_json.html': [(True,\n",
       "   'https://pandas.pydata.org/pandas-docs/stable/reference/api/pandas.read_json.html',\n",
       "   200,\n",
       "   'OK')],\n",
       " 'https://datasciencecampus.ons.gov.uk/projects/synthetic-data-for-public-good/': [(True,\n",
       "   'https://datasciencecampus.ons.gov.uk/projects/synthetic-data-for-public-good/',\n",
       "   200,\n",
       "   'OK')],\n",
       " 'http://pandas.pydata.org/pandas-docs/stable/generated/pandas.DataFrame.to_csv.html': [(True,\n",
       "   'http://pandas.pydata.org/pandas-docs/stable/generated/pandas.DataFrame.to_csv.html',\n",
       "   200,\n",
       "   'OK')],\n",
       " 'https://pandas.pydata.org/pandas-docs/stable/reference/api/pandas.read_csv.html': [(True,\n",
       "   'https://pandas.pydata.org/pandas-docs/stable/reference/api/pandas.read_csv.html',\n",
       "   200,\n",
       "   'OK')],\n",
       " 'https://github.com/scrapinghub/dateparser': [(True,\n",
       "   'https://github.com/scrapinghub/dateparser',\n",
       "   200,\n",
       "   'OK')],\n",
       " 'http://pandas.pydata.org/pandas-docs/stable/generated/pandas.read_excel.html': [(True,\n",
       "   'http://pandas.pydata.org/pandas-docs/stable/generated/pandas.read_excel.html',\n",
       "   200,\n",
       "   'OK')],\n",
       " 'https://www.gov.uk/government/publications/synthetic-data': [(True,\n",
       "   'https://www.gov.uk/government/publications/synthetic-data',\n",
       "   200,\n",
       "   'OK')],\n",
       " 'https://pandas.pydata.org/docs/reference/api/pandas.read_csv.html': [(True,\n",
       "   'https://pandas.pydata.org/docs/reference/api/pandas.read_csv.html',\n",
       "   200,\n",
       "   'OK')],\n",
       " 'https://pandas.pydata.org/pandas-docs/stable/reference/api/pandas.DataFrame.to_json.html': [(True,\n",
       "   'https://pandas.pydata.org/pandas-docs/stable/reference/api/pandas.DataFrame.to_json.html',\n",
       "   200,\n",
       "   'OK')]}"
      ]
     },
     "execution_count": 45,
     "metadata": {},
     "output_type": "execute_result"
    }
   ],
   "source": [
    "from ouxml_link_checker import link_checker as olc\n",
    "\n",
    "test_links = list({l[1] for li in test_links_images for l in li['links'] if l[1].startswith('http')})\n",
    "#test_links\n",
    "\n",
    "reps = olc.check_multiple_links(test_links)\n",
    "reps"
   ]
  },
  {
   "cell_type": "code",
   "execution_count": 46,
   "id": "100c3d4c",
   "metadata": {
    "editable": true,
    "lines_to_next_cell": 1,
    "slideshow": {
     "slide_type": ""
    },
    "tags": []
   },
   "outputs": [],
   "source": [
    "# #### Summarised Cell Level Reporting\n",
    "#\n",
    "# For the summarised cell level reporting, generate measures on a per cell basis and then calculate summary statistics over those.\n",
    "import warnings"
   ]
  },
  {
   "cell_type": "code",
   "execution_count": 47,
   "id": "c33a45c1",
   "metadata": {
    "editable": true,
    "lines_to_next_cell": 1,
    "slideshow": {
     "slide_type": ""
    },
    "tags": []
   },
   "outputs": [],
   "source": [
    "def safe_concat(d):\n",
    "    df = pd.DataFrame()\n",
    "    with warnings.catch_warnings():\n",
    "        warnings.simplefilter(action=\"ignore\", category=FutureWarning)\n",
    "        if d[0].empty:\n",
    "            df = d[1].copy()\n",
    "        elif not d[1].empty:\n",
    "            df = pd.concat(d, ignore_index=True, sort=False).copy()\n",
    "    return df"
   ]
  },
  {
   "cell_type": "code",
   "execution_count": 48,
   "id": "d5766b7b",
   "metadata": {
    "editable": true,
    "slideshow": {
     "slide_type": ""
    },
    "tags": []
   },
   "outputs": [],
   "source": [
    "def process_notebook_md(nb, fn=''):\n",
    "    \"\"\"Process all the markdown cells in a notebook.\"\"\"\n",
    "    cell_reports = pd.DataFrame()\n",
    "\n",
    "    for i, cell in enumerate(nb.cells):\n",
    "        if cell['cell_type']=='markdown':\n",
    "            _metrics = process_notebook_md_doc( nlp( cell['source'] ))\n",
    "            _metrics['cell_index'] = i\n",
    "            _metrics['cell_type'] = 'md'\n",
    "            # cell_reports = cell_reports.append(_metrics, sort=False)\n",
    "            cell_reports = safe_concat(\n",
    "                        [cell_reports, _metrics]\n",
    "                    )\n",
    "    cell_reports['filename'] = fn\n",
    "    cell_reports.reset_index(drop=True, inplace=True)\n",
    "    return cell_reports"
   ]
  },
  {
   "cell_type": "markdown",
   "id": "d80cb92e",
   "metadata": {
    "editable": true,
    "slideshow": {
     "slide_type": ""
    },
    "tags": []
   },
   "source": [
    "Processing a single notebook returns a dataframe with one row per markdown cell with each metric reported in its own column."
   ]
  },
  {
   "cell_type": "code",
   "execution_count": 49,
   "id": "104e3f0f",
   "metadata": {
    "editable": true,
    "slideshow": {
     "slide_type": ""
    },
    "tags": [
     "active-ipynb"
    ]
   },
   "outputs": [
    {
     "data": {
      "text/html": [
       "<div>\n",
       "<style scoped>\n",
       "    .dataframe tbody tr th:only-of-type {\n",
       "        vertical-align: middle;\n",
       "    }\n",
       "\n",
       "    .dataframe tbody tr th {\n",
       "        vertical-align: top;\n",
       "    }\n",
       "\n",
       "    .dataframe thead th {\n",
       "        text-align: right;\n",
       "    }\n",
       "</style>\n",
       "<table border=\"1\" class=\"dataframe\">\n",
       "  <thead>\n",
       "    <tr style=\"text-align: right;\">\n",
       "      <th></th>\n",
       "      <th>text</th>\n",
       "      <th>n_chars</th>\n",
       "      <th>n_words</th>\n",
       "      <th>n_sents</th>\n",
       "      <th>n_unique_words</th>\n",
       "      <th>n_syllables</th>\n",
       "      <th>n_monosyllable_words</th>\n",
       "      <th>n_polysyllable_words</th>\n",
       "      <th>n_long_words</th>\n",
       "      <th>sentence_length_mean</th>\n",
       "      <th>...</th>\n",
       "      <th>n_code_lines</th>\n",
       "      <th>n_blank_code_lines</th>\n",
       "      <th>n_single_line_comment_code_lines</th>\n",
       "      <th>reading_time_s</th>\n",
       "      <th>reading_time_mins</th>\n",
       "      <th>acronyms</th>\n",
       "      <th>keyterms</th>\n",
       "      <th>cell_index</th>\n",
       "      <th>cell_type</th>\n",
       "      <th>filename</th>\n",
       "    </tr>\n",
       "  </thead>\n",
       "  <tbody>\n",
       "    <tr>\n",
       "      <th>0</th>\n",
       "      <td># Test Notebook for Notebook Profiler\\n\\nThis ...</td>\n",
       "      <td>252</td>\n",
       "      <td>40</td>\n",
       "      <td>3</td>\n",
       "      <td>27</td>\n",
       "      <td>73</td>\n",
       "      <td>21</td>\n",
       "      <td>13</td>\n",
       "      <td>15</td>\n",
       "      <td>14.666667</td>\n",
       "      <td>...</td>\n",
       "      <td>0</td>\n",
       "      <td>0</td>\n",
       "      <td>0</td>\n",
       "      <td>25.0</td>\n",
       "      <td>1</td>\n",
       "      <td>{}</td>\n",
       "      <td>{}</td>\n",
       "      <td>0</td>\n",
       "      <td>md</td>\n",
       "      <td></td>\n",
       "    </tr>\n",
       "    <tr>\n",
       "      <th>1</th>\n",
       "      <td>## Markdown Cells With Code Blocks\\n\\nThis cel...</td>\n",
       "      <td>163</td>\n",
       "      <td>30</td>\n",
       "      <td>2</td>\n",
       "      <td>22</td>\n",
       "      <td>37</td>\n",
       "      <td>10</td>\n",
       "      <td>3</td>\n",
       "      <td>5</td>\n",
       "      <td>16.500000</td>\n",
       "      <td>...</td>\n",
       "      <td>2</td>\n",
       "      <td>0</td>\n",
       "      <td>1</td>\n",
       "      <td>18.0</td>\n",
       "      <td>1</td>\n",
       "      <td>{}</td>\n",
       "      <td>{}</td>\n",
       "      <td>1</td>\n",
       "      <td>md</td>\n",
       "      <td></td>\n",
       "    </tr>\n",
       "    <tr>\n",
       "      <th>2</th>\n",
       "      <td>This cell contains two code blocks.\\n\\nHere's ...</td>\n",
       "      <td>229</td>\n",
       "      <td>49</td>\n",
       "      <td>4</td>\n",
       "      <td>23</td>\n",
       "      <td>53</td>\n",
       "      <td>12</td>\n",
       "      <td>5</td>\n",
       "      <td>6</td>\n",
       "      <td>13.000000</td>\n",
       "      <td>...</td>\n",
       "      <td>4</td>\n",
       "      <td>0</td>\n",
       "      <td>2</td>\n",
       "      <td>28.0</td>\n",
       "      <td>1</td>\n",
       "      <td>{}</td>\n",
       "      <td>{}</td>\n",
       "      <td>2</td>\n",
       "      <td>md</td>\n",
       "      <td></td>\n",
       "    </tr>\n",
       "  </tbody>\n",
       "</table>\n",
       "<p>3 rows × 34 columns</p>\n",
       "</div>"
      ],
      "text/plain": [
       "                                                text  n_chars  n_words  \\\n",
       "0  # Test Notebook for Notebook Profiler\\n\\nThis ...      252       40   \n",
       "1  ## Markdown Cells With Code Blocks\\n\\nThis cel...      163       30   \n",
       "2  This cell contains two code blocks.\\n\\nHere's ...      229       49   \n",
       "\n",
       "   n_sents  n_unique_words  n_syllables  n_monosyllable_words  \\\n",
       "0        3              27           73                    21   \n",
       "1        2              22           37                    10   \n",
       "2        4              23           53                    12   \n",
       "\n",
       "   n_polysyllable_words  n_long_words  sentence_length_mean  ...  \\\n",
       "0                    13            15             14.666667  ...   \n",
       "1                     3             5             16.500000  ...   \n",
       "2                     5             6             13.000000  ...   \n",
       "\n",
       "   n_code_lines  n_blank_code_lines n_single_line_comment_code_lines  \\\n",
       "0             0                   0                                0   \n",
       "1             2                   0                                1   \n",
       "2             4                   0                                2   \n",
       "\n",
       "   reading_time_s  reading_time_mins  acronyms  keyterms cell_index  \\\n",
       "0            25.0                  1        {}        {}          0   \n",
       "1            18.0                  1        {}        {}          1   \n",
       "2            28.0                  1        {}        {}          2   \n",
       "\n",
       "   cell_type  filename  \n",
       "0         md            \n",
       "1         md            \n",
       "2         md            \n",
       "\n",
       "[3 rows x 34 columns]"
      ]
     },
     "execution_count": 49,
     "metadata": {},
     "output_type": "execute_result"
    }
   ],
   "source": [
    "total_report = process_notebook_md(nb)\n",
    "total_report.head(3)"
   ]
  },
  {
   "cell_type": "markdown",
   "id": "68d6537e",
   "metadata": {
    "editable": true,
    "slideshow": {
     "slide_type": ""
    },
    "tags": []
   },
   "source": [
    "It is trivial to create summary statistics directly from the *per* cell report table by aggregating over rows associated with the same notebook; in this case, we can find the total readtime as a simple sum.\n",
    "\n",
    "However, more generally we may wish to apply the aggegation over a set of grouped results (for example, in a dataframe containing materics from mutliple notebooks, we would want to group by each notebook and then perform the agggragatin on the measures associated with each notebook)."
   ]
  },
  {
   "cell_type": "code",
   "execution_count": 50,
   "id": "21b25310",
   "metadata": {
    "editable": true,
    "slideshow": {
     "slide_type": ""
    },
    "tags": [
     "active-ipynb"
    ]
   },
   "outputs": [
    {
     "data": {
      "text/plain": [
       "4"
      ]
     },
     "execution_count": 50,
     "metadata": {},
     "output_type": "execute_result"
    }
   ],
   "source": [
    "total_report['reading_time_mins'].sum()"
   ]
  },
  {
   "cell_type": "markdown",
   "id": "922740ea",
   "metadata": {
    "editable": true,
    "slideshow": {
     "slide_type": ""
    },
    "tags": []
   },
   "source": [
    "Let's also create a function to profile a notebook from a file:"
   ]
  },
  {
   "cell_type": "code",
   "execution_count": 66,
   "id": "0381de4a",
   "metadata": {
    "editable": true,
    "slideshow": {
     "slide_type": ""
    },
    "tags": [
     "active-ipynb"
    ]
   },
   "outputs": [],
   "source": [
    "# This function is defined locally within the jupytext notrebook view\n",
    "# THe py package version is below and is the full code and md cell processor\n",
    "def process_notebook_file(fn):\n",
    "    \"\"\"Grab cell level statistics across a whole notebook.\"\"\"\n",
    "    nb = get_nb(fn, display_path=True)\n",
    "    try:\n",
    "        cell_reports = process_notebook_md(nb, fn=fn)\n",
    "    except:\n",
    "        print(f'FAILED to process {fn}')\n",
    "        cell_reports = pd.DataFrame()\n",
    "        \n",
    "    cell_reports.reset_index(drop=True, inplace=True)\n",
    "    return cell_reports"
   ]
  },
  {
   "cell_type": "markdown",
   "id": "f8d69148",
   "metadata": {
    "editable": true,
    "slideshow": {
     "slide_type": ""
    },
    "tags": []
   },
   "source": [
    "The `process_notebook_file()` function returns a dataframe containing row level reports for each markdown cell in a specified notebook:"
   ]
  },
  {
   "cell_type": "code",
   "execution_count": 61,
   "id": "c36eddb7",
   "metadata": {
    "editable": true,
    "slideshow": {
     "slide_type": ""
    },
    "tags": [
     "active-ipynb"
    ]
   },
   "outputs": [
    {
     "name": "stdout",
     "output_type": "stream",
     "text": [
      "../Notebook_profile_test.ipynb\n"
     ]
    },
    {
     "data": {
      "text/html": [
       "<div>\n",
       "<style scoped>\n",
       "    .dataframe tbody tr th:only-of-type {\n",
       "        vertical-align: middle;\n",
       "    }\n",
       "\n",
       "    .dataframe tbody tr th {\n",
       "        vertical-align: top;\n",
       "    }\n",
       "\n",
       "    .dataframe thead th {\n",
       "        text-align: right;\n",
       "    }\n",
       "</style>\n",
       "<table border=\"1\" class=\"dataframe\">\n",
       "  <thead>\n",
       "    <tr style=\"text-align: right;\">\n",
       "      <th></th>\n",
       "      <th>text</th>\n",
       "      <th>n_chars</th>\n",
       "      <th>n_words</th>\n",
       "      <th>n_sents</th>\n",
       "      <th>n_unique_words</th>\n",
       "      <th>n_syllables</th>\n",
       "      <th>n_monosyllable_words</th>\n",
       "      <th>n_polysyllable_words</th>\n",
       "      <th>n_long_words</th>\n",
       "      <th>sentence_length_mean</th>\n",
       "      <th>...</th>\n",
       "      <th>n_code_lines</th>\n",
       "      <th>n_blank_code_lines</th>\n",
       "      <th>n_single_line_comment_code_lines</th>\n",
       "      <th>reading_time_s</th>\n",
       "      <th>reading_time_mins</th>\n",
       "      <th>acronyms</th>\n",
       "      <th>keyterms</th>\n",
       "      <th>cell_index</th>\n",
       "      <th>cell_type</th>\n",
       "      <th>filename</th>\n",
       "    </tr>\n",
       "  </thead>\n",
       "  <tbody>\n",
       "    <tr>\n",
       "      <th>0</th>\n",
       "      <td># Test Notebook for Notebook Profiler\\n\\nThis ...</td>\n",
       "      <td>252</td>\n",
       "      <td>40</td>\n",
       "      <td>3</td>\n",
       "      <td>27</td>\n",
       "      <td>73</td>\n",
       "      <td>21</td>\n",
       "      <td>13</td>\n",
       "      <td>15</td>\n",
       "      <td>14.666667</td>\n",
       "      <td>...</td>\n",
       "      <td>0</td>\n",
       "      <td>0</td>\n",
       "      <td>0</td>\n",
       "      <td>25.0</td>\n",
       "      <td>1</td>\n",
       "      <td>{}</td>\n",
       "      <td>{}</td>\n",
       "      <td>0</td>\n",
       "      <td>md</td>\n",
       "      <td>../Notebook_profile_test.ipynb</td>\n",
       "    </tr>\n",
       "    <tr>\n",
       "      <th>1</th>\n",
       "      <td>## Markdown Cells With Code Blocks\\n\\nThis cel...</td>\n",
       "      <td>163</td>\n",
       "      <td>30</td>\n",
       "      <td>2</td>\n",
       "      <td>22</td>\n",
       "      <td>37</td>\n",
       "      <td>10</td>\n",
       "      <td>3</td>\n",
       "      <td>5</td>\n",
       "      <td>16.500000</td>\n",
       "      <td>...</td>\n",
       "      <td>2</td>\n",
       "      <td>0</td>\n",
       "      <td>1</td>\n",
       "      <td>18.0</td>\n",
       "      <td>1</td>\n",
       "      <td>{}</td>\n",
       "      <td>{}</td>\n",
       "      <td>1</td>\n",
       "      <td>md</td>\n",
       "      <td>../Notebook_profile_test.ipynb</td>\n",
       "    </tr>\n",
       "    <tr>\n",
       "      <th>2</th>\n",
       "      <td>This cell contains two code blocks.\\n\\nHere's ...</td>\n",
       "      <td>229</td>\n",
       "      <td>49</td>\n",
       "      <td>4</td>\n",
       "      <td>23</td>\n",
       "      <td>53</td>\n",
       "      <td>12</td>\n",
       "      <td>5</td>\n",
       "      <td>6</td>\n",
       "      <td>13.000000</td>\n",
       "      <td>...</td>\n",
       "      <td>4</td>\n",
       "      <td>0</td>\n",
       "      <td>2</td>\n",
       "      <td>28.0</td>\n",
       "      <td>1</td>\n",
       "      <td>{}</td>\n",
       "      <td>{}</td>\n",
       "      <td>2</td>\n",
       "      <td>md</td>\n",
       "      <td>../Notebook_profile_test.ipynb</td>\n",
       "    </tr>\n",
       "    <tr>\n",
       "      <th>3</th>\n",
       "      <td>## Links and Images\\n\\nHere is a [link](http:/...</td>\n",
       "      <td>179</td>\n",
       "      <td>17</td>\n",
       "      <td>3</td>\n",
       "      <td>15</td>\n",
       "      <td>43</td>\n",
       "      <td>7</td>\n",
       "      <td>5</td>\n",
       "      <td>5</td>\n",
       "      <td>8.666667</td>\n",
       "      <td>...</td>\n",
       "      <td>0</td>\n",
       "      <td>0</td>\n",
       "      <td>0</td>\n",
       "      <td>30.0</td>\n",
       "      <td>1</td>\n",
       "      <td>{}</td>\n",
       "      <td>{}</td>\n",
       "      <td>8</td>\n",
       "      <td>md</td>\n",
       "      <td>../Notebook_profile_test.ipynb</td>\n",
       "    </tr>\n",
       "  </tbody>\n",
       "</table>\n",
       "<p>4 rows × 34 columns</p>\n",
       "</div>"
      ],
      "text/plain": [
       "                                                text  n_chars  n_words  \\\n",
       "0  # Test Notebook for Notebook Profiler\\n\\nThis ...      252       40   \n",
       "1  ## Markdown Cells With Code Blocks\\n\\nThis cel...      163       30   \n",
       "2  This cell contains two code blocks.\\n\\nHere's ...      229       49   \n",
       "3  ## Links and Images\\n\\nHere is a [link](http:/...      179       17   \n",
       "\n",
       "   n_sents  n_unique_words  n_syllables  n_monosyllable_words  \\\n",
       "0        3              27           73                    21   \n",
       "1        2              22           37                    10   \n",
       "2        4              23           53                    12   \n",
       "3        3              15           43                     7   \n",
       "\n",
       "   n_polysyllable_words  n_long_words  sentence_length_mean  ...  \\\n",
       "0                    13            15             14.666667  ...   \n",
       "1                     3             5             16.500000  ...   \n",
       "2                     5             6             13.000000  ...   \n",
       "3                     5             5              8.666667  ...   \n",
       "\n",
       "   n_code_lines  n_blank_code_lines n_single_line_comment_code_lines  \\\n",
       "0             0                   0                                0   \n",
       "1             2                   0                                1   \n",
       "2             4                   0                                2   \n",
       "3             0                   0                                0   \n",
       "\n",
       "   reading_time_s  reading_time_mins  acronyms  keyterms cell_index  \\\n",
       "0            25.0                  1        {}        {}          0   \n",
       "1            18.0                  1        {}        {}          1   \n",
       "2            28.0                  1        {}        {}          2   \n",
       "3            30.0                  1        {}        {}          8   \n",
       "\n",
       "   cell_type                        filename  \n",
       "0         md  ../Notebook_profile_test.ipynb  \n",
       "1         md  ../Notebook_profile_test.ipynb  \n",
       "2         md  ../Notebook_profile_test.ipynb  \n",
       "3         md  ../Notebook_profile_test.ipynb  \n",
       "\n",
       "[4 rows x 34 columns]"
      ]
     },
     "execution_count": 61,
     "metadata": {},
     "output_type": "execute_result"
    }
   ],
   "source": [
    "process_notebook_file(TEST_NOTEBOOK)"
   ]
  },
  {
   "cell_type": "markdown",
   "id": "9944ea5a",
   "metadata": {
    "editable": true,
    "slideshow": {
     "slide_type": ""
    },
    "tags": []
   },
   "source": [
    "### Analysing Multiple Notebooks in the Same Directory\n",
    "\n",
    "As well as analysing notebooks at the notebook level, we may also want to generate individual and aggregated reports for all the notebooks contained in a single directory.\n",
    "\n",
    "Aggregated reports might include the total estimated time to work through all the notebooks in the directory, for example.\n",
    "\n",
    "It might be useful to have one entry point and a switch that selects between the notebook summary reports and the full cell level report? Or maybe we should report two dataframes always - aggregated notebook level and individual cell level?"
   ]
  },
  {
   "cell_type": "code",
   "execution_count": 62,
   "id": "cb81da56",
   "metadata": {},
   "outputs": [],
   "source": [
    "import os\n",
    "\n",
    "def _nb_dir_file_profiler(path, _f, report=False):\n",
    "    \"\"\"Get the profile for a single file on a specified path.\"\"\"\n",
    "    f = os.path.join(path, _f)\n",
    "    if f.endswith('.ipynb'):\n",
    "        if report:\n",
    "            print(f'Profiling {f}')\n",
    "        return process_notebook_file(f)\n",
    "    return pd.DataFrame()\n",
    "\n",
    "def nb_dir_profiler(path):\n",
    "    \"\"\"Profile all the notebooks in a specific directory.\"\"\"\n",
    "    nb_dir_report = pd.DataFrame()\n",
    "    for _f in os.listdir(path):\n",
    "        # nb_dir_report = nb_dir_report.append( _nb_dir_profiler(path, _f), sort=False )\n",
    "        _df=_nb_dir_profiler(path, _f)\n",
    "        nb_dir_report = safe_concat(\n",
    "                [nb_dir_report, _df]\n",
    "            )\n",
    "    # nb_dir_report['path'] = path\n",
    "    return nb_dir_report   "
   ]
  },
  {
   "cell_type": "code",
   "execution_count": 63,
   "id": "65f1fc65",
   "metadata": {},
   "outputs": [],
   "source": [
    "# nb_dir_profiler('.')"
   ]
  },
  {
   "cell_type": "markdown",
   "id": "576086e4",
   "metadata": {},
   "source": [
    "### Analysing Notebooks Across Multiple Directories\n",
    "\n",
    "As well as analysing all the notebooks contained within a single directory, we may want to automate the production of reports at the directory level across multiple directories."
   ]
  },
  {
   "cell_type": "code",
   "execution_count": 64,
   "id": "3fa1c222",
   "metadata": {},
   "outputs": [],
   "source": [
    "def nb_multidir_profiler(path, exclude = 'default'):\n",
    "    \"\"\"Profile all the notebooks in a specific directory and in any child directories.\"\"\"\n",
    "\n",
    "    if exclude == 'default':\n",
    "        exclude_paths = ['.ipynb_checkpoints', '.git', '.ipynb', '__MACOSX']\n",
    "    else:\n",
    "        # If we set exclude, we need to pass it as a list\n",
    "        exclude_paths = exclude\n",
    "    nb_multidir_report = pd.DataFrame()\n",
    "    for _path, dirs, files in os.walk(path):\n",
    "        # Start walking...\n",
    "        # If we're in a directory that is not excluded...\n",
    "        if not set(exclude_paths).intersection(set(_path.split('/'))):\n",
    "            # Profile that directory...\n",
    "            nb_dir_report = pd.DataFrame()\n",
    "            for _f in files:\n",
    "                # nb_dir_report = nb_dir_report.append( _nb_dir_file_profiler(_path, _f), sort=False )\n",
    "                _df = _nb_dir_file_profiler(_path, _f)\n",
    "                nb_dir_report = safe_concat([nb_dir_report,_df])\n",
    "            if not nb_dir_report.empty:\n",
    "                nb_dir_report['path'] = _path\n",
    "                # nb_multidir_report = nb_multidir_report.append(nb_dir_report, sort=False)\n",
    "                nb_multidir_report =safe_concat([nb_multidir_report, nb_dir_report])\n",
    "    if not nb_multidir_report.empty:\n",
    "        nb_multidir_report = nb_multidir_report.sort_values(by=['path', 'filename'])\n",
    "\n",
    "        nb_multidir_report.reset_index(drop=True, inplace=True)\n",
    "\n",
    "    return nb_multidir_report   "
   ]
  },
  {
   "cell_type": "code",
   "execution_count": 65,
   "id": "6cb2433d",
   "metadata": {
    "tags": [
     "active-ipynb"
    ]
   },
   "outputs": [
    {
     "name": "stdout",
     "output_type": "stream",
     "text": [
      "../../tm351/Part 02 Notebooks/02.A Appendix – Fake Data Generation (Optional).ipynb\n",
      "../../tm351/Part 02 Notebooks/02.1 Pandas Dataframes.ipynb\n",
      "../../tm351/Part 02 Notebooks/02.2.0 Data file formats - file encodings.ipynb\n",
      "../../tm351/Part 02 Notebooks/02.2.2 Data file formats - JSON.ipynb\n",
      "../../tm351/Part 02 Notebooks/02.2.3 Data file formats - other.ipynb\n",
      "../../tm351/Part 02 Notebooks/02.2.1 Data file formats - CSV.ipynb\n"
     ]
    },
    {
     "data": {
      "text/html": [
       "<div>\n",
       "<style scoped>\n",
       "    .dataframe tbody tr th:only-of-type {\n",
       "        vertical-align: middle;\n",
       "    }\n",
       "\n",
       "    .dataframe tbody tr th {\n",
       "        vertical-align: top;\n",
       "    }\n",
       "\n",
       "    .dataframe thead th {\n",
       "        text-align: right;\n",
       "    }\n",
       "</style>\n",
       "<table border=\"1\" class=\"dataframe\">\n",
       "  <thead>\n",
       "    <tr style=\"text-align: right;\">\n",
       "      <th></th>\n",
       "      <th>text</th>\n",
       "      <th>n_chars</th>\n",
       "      <th>n_words</th>\n",
       "      <th>n_sents</th>\n",
       "      <th>n_unique_words</th>\n",
       "      <th>n_syllables</th>\n",
       "      <th>n_monosyllable_words</th>\n",
       "      <th>n_polysyllable_words</th>\n",
       "      <th>n_long_words</th>\n",
       "      <th>sentence_length_mean</th>\n",
       "      <th>...</th>\n",
       "      <th>n_blank_code_lines</th>\n",
       "      <th>n_single_line_comment_code_lines</th>\n",
       "      <th>reading_time_s</th>\n",
       "      <th>reading_time_mins</th>\n",
       "      <th>acronyms</th>\n",
       "      <th>keyterms</th>\n",
       "      <th>cell_index</th>\n",
       "      <th>cell_type</th>\n",
       "      <th>filename</th>\n",
       "      <th>path</th>\n",
       "    </tr>\n",
       "  </thead>\n",
       "  <tbody>\n",
       "    <tr>\n",
       "      <th>0</th>\n",
       "      <td># The *pandas* library: `Series` and `DataFrame`s</td>\n",
       "      <td>49</td>\n",
       "      <td>9</td>\n",
       "      <td>1</td>\n",
       "      <td>7</td>\n",
       "      <td>12</td>\n",
       "      <td>2</td>\n",
       "      <td>1</td>\n",
       "      <td>2</td>\n",
       "      <td>9.000000</td>\n",
       "      <td>...</td>\n",
       "      <td>0</td>\n",
       "      <td>0</td>\n",
       "      <td>5.0</td>\n",
       "      <td>1</td>\n",
       "      <td>{}</td>\n",
       "      <td>{}</td>\n",
       "      <td>0</td>\n",
       "      <td>md</td>\n",
       "      <td>../../tm351/Part 02 Notebooks/02.1 Pandas Data...</td>\n",
       "      <td>../../tm351/Part 02 Notebooks</td>\n",
       "    </tr>\n",
       "    <tr>\n",
       "      <th>1</th>\n",
       "      <td>Python is a general-purpose scripting language...</td>\n",
       "      <td>717</td>\n",
       "      <td>127</td>\n",
       "      <td>7</td>\n",
       "      <td>79</td>\n",
       "      <td>206</td>\n",
       "      <td>66</td>\n",
       "      <td>24</td>\n",
       "      <td>29</td>\n",
       "      <td>18.714286</td>\n",
       "      <td>...</td>\n",
       "      <td>0</td>\n",
       "      <td>0</td>\n",
       "      <td>75.0</td>\n",
       "      <td>2</td>\n",
       "      <td>{}</td>\n",
       "      <td>{}</td>\n",
       "      <td>1</td>\n",
       "      <td>md</td>\n",
       "      <td>../../tm351/Part 02 Notebooks/02.1 Pandas Data...</td>\n",
       "      <td>../../tm351/Part 02 Notebooks</td>\n",
       "    </tr>\n",
       "    <tr>\n",
       "      <th>2</th>\n",
       "      <td>Note that it is possible to set up notebooks t...</td>\n",
       "      <td>1071</td>\n",
       "      <td>190</td>\n",
       "      <td>6</td>\n",
       "      <td>94</td>\n",
       "      <td>284</td>\n",
       "      <td>94</td>\n",
       "      <td>31</td>\n",
       "      <td>41</td>\n",
       "      <td>34.333333</td>\n",
       "      <td>...</td>\n",
       "      <td>0</td>\n",
       "      <td>5</td>\n",
       "      <td>119.0</td>\n",
       "      <td>2</td>\n",
       "      <td>{}</td>\n",
       "      <td>{}</td>\n",
       "      <td>3</td>\n",
       "      <td>md</td>\n",
       "      <td>../../tm351/Part 02 Notebooks/02.1 Pandas Data...</td>\n",
       "      <td>../../tm351/Part 02 Notebooks</td>\n",
       "    </tr>\n",
       "    <tr>\n",
       "      <th>3</th>\n",
       "      <td>## Python recap: `list`s and `dict`s</td>\n",
       "      <td>36</td>\n",
       "      <td>7</td>\n",
       "      <td>1</td>\n",
       "      <td>6</td>\n",
       "      <td>6</td>\n",
       "      <td>4</td>\n",
       "      <td>0</td>\n",
       "      <td>0</td>\n",
       "      <td>7.000000</td>\n",
       "      <td>...</td>\n",
       "      <td>0</td>\n",
       "      <td>0</td>\n",
       "      <td>4.0</td>\n",
       "      <td>1</td>\n",
       "      <td>{}</td>\n",
       "      <td>{}</td>\n",
       "      <td>4</td>\n",
       "      <td>md</td>\n",
       "      <td>../../tm351/Part 02 Notebooks/02.1 Pandas Data...</td>\n",
       "      <td>../../tm351/Part 02 Notebooks</td>\n",
       "    </tr>\n",
       "    <tr>\n",
       "      <th>4</th>\n",
       "      <td>Python lists are mutable, data structures that...</td>\n",
       "      <td>128</td>\n",
       "      <td>21</td>\n",
       "      <td>1</td>\n",
       "      <td>20</td>\n",
       "      <td>36</td>\n",
       "      <td>11</td>\n",
       "      <td>5</td>\n",
       "      <td>7</td>\n",
       "      <td>21.000000</td>\n",
       "      <td>...</td>\n",
       "      <td>0</td>\n",
       "      <td>0</td>\n",
       "      <td>14.0</td>\n",
       "      <td>1</td>\n",
       "      <td>{}</td>\n",
       "      <td>{}</td>\n",
       "      <td>5</td>\n",
       "      <td>md</td>\n",
       "      <td>../../tm351/Part 02 Notebooks/02.1 Pandas Data...</td>\n",
       "      <td>../../tm351/Part 02 Notebooks</td>\n",
       "    </tr>\n",
       "  </tbody>\n",
       "</table>\n",
       "<p>5 rows × 35 columns</p>\n",
       "</div>"
      ],
      "text/plain": [
       "                                                text  n_chars  n_words  \\\n",
       "0  # The *pandas* library: `Series` and `DataFrame`s       49        9   \n",
       "1  Python is a general-purpose scripting language...      717      127   \n",
       "2  Note that it is possible to set up notebooks t...     1071      190   \n",
       "3               ## Python recap: `list`s and `dict`s       36        7   \n",
       "4  Python lists are mutable, data structures that...      128       21   \n",
       "\n",
       "   n_sents  n_unique_words  n_syllables  n_monosyllable_words  \\\n",
       "0        1               7           12                     2   \n",
       "1        7              79          206                    66   \n",
       "2        6              94          284                    94   \n",
       "3        1               6            6                     4   \n",
       "4        1              20           36                    11   \n",
       "\n",
       "   n_polysyllable_words  n_long_words  sentence_length_mean  ...  \\\n",
       "0                     1             2              9.000000  ...   \n",
       "1                    24            29             18.714286  ...   \n",
       "2                    31            41             34.333333  ...   \n",
       "3                     0             0              7.000000  ...   \n",
       "4                     5             7             21.000000  ...   \n",
       "\n",
       "   n_blank_code_lines  n_single_line_comment_code_lines reading_time_s  \\\n",
       "0                   0                                 0            5.0   \n",
       "1                   0                                 0           75.0   \n",
       "2                   0                                 5          119.0   \n",
       "3                   0                                 0            4.0   \n",
       "4                   0                                 0           14.0   \n",
       "\n",
       "   reading_time_mins  acronyms  keyterms  cell_index cell_type  \\\n",
       "0                  1        {}        {}           0        md   \n",
       "1                  2        {}        {}           1        md   \n",
       "2                  2        {}        {}           3        md   \n",
       "3                  1        {}        {}           4        md   \n",
       "4                  1        {}        {}           5        md   \n",
       "\n",
       "                                            filename  \\\n",
       "0  ../../tm351/Part 02 Notebooks/02.1 Pandas Data...   \n",
       "1  ../../tm351/Part 02 Notebooks/02.1 Pandas Data...   \n",
       "2  ../../tm351/Part 02 Notebooks/02.1 Pandas Data...   \n",
       "3  ../../tm351/Part 02 Notebooks/02.1 Pandas Data...   \n",
       "4  ../../tm351/Part 02 Notebooks/02.1 Pandas Data...   \n",
       "\n",
       "                            path  \n",
       "0  ../../tm351/Part 02 Notebooks  \n",
       "1  ../../tm351/Part 02 Notebooks  \n",
       "2  ../../tm351/Part 02 Notebooks  \n",
       "3  ../../tm351/Part 02 Notebooks  \n",
       "4  ../../tm351/Part 02 Notebooks  \n",
       "\n",
       "[5 rows x 35 columns]"
      ]
     },
     "execution_count": 65,
     "metadata": {},
     "output_type": "execute_result"
    }
   ],
   "source": [
    "ddf = nb_multidir_profiler('../../tm351/Part 02 Notebooks')\n",
    "ddf.head()"
   ]
  },
  {
   "cell_type": "markdown",
   "id": "b5073b5d",
   "metadata": {},
   "source": [
    "Under the grouped report, we note that the summed reading time in minutes is likely to significantly overestimate the reading time requirement, representing as it does the sum of time in minutes rounded up from seconds. The lower bound giving by the summed reading time in *seconds* more closely relates to the markdown word count.\n",
    "\n",
    "However, the larger estimate perhaps does also factor in context switching time going from one cell to another. Whilst this may be invisible to the reader if a markdown cell follows a markdown cell, it may be more evident when going from a markdown cell to a code cell. On the other hand, if a markdown cell follows another because there is a change from one subsection to another, there may be a pause for reflection as part of that context switch that *is* captured by the rounding."
   ]
  },
  {
   "cell_type": "code",
   "execution_count": 71,
   "id": "40ca6325",
   "metadata": {
    "editable": true,
    "slideshow": {
     "slide_type": ""
    },
    "tags": [
     "active-ipynb"
    ]
   },
   "outputs": [
    {
     "data": {
      "text/html": [
       "<div>\n",
       "<style scoped>\n",
       "    .dataframe tbody tr th:only-of-type {\n",
       "        vertical-align: middle;\n",
       "    }\n",
       "\n",
       "    .dataframe tbody tr th {\n",
       "        vertical-align: top;\n",
       "    }\n",
       "\n",
       "    .dataframe thead th {\n",
       "        text-align: right;\n",
       "    }\n",
       "</style>\n",
       "<table border=\"1\" class=\"dataframe\">\n",
       "  <thead>\n",
       "    <tr style=\"text-align: right;\">\n",
       "      <th></th>\n",
       "      <th></th>\n",
       "      <th>n_total_code_lines</th>\n",
       "      <th>n_words</th>\n",
       "      <th>reading_time_mins</th>\n",
       "      <th>reading_time_s</th>\n",
       "    </tr>\n",
       "    <tr>\n",
       "      <th>path</th>\n",
       "      <th>filename</th>\n",
       "      <th></th>\n",
       "      <th></th>\n",
       "      <th></th>\n",
       "      <th></th>\n",
       "    </tr>\n",
       "  </thead>\n",
       "  <tbody>\n",
       "    <tr>\n",
       "      <th rowspan=\"6\" valign=\"top\">../../tm351/Part 02 Notebooks</th>\n",
       "      <th>../../tm351/Part 02 Notebooks/02.1 Pandas Dataframes.ipynb</th>\n",
       "      <td>15</td>\n",
       "      <td>2868</td>\n",
       "      <td>97</td>\n",
       "      <td>1655.0</td>\n",
       "    </tr>\n",
       "    <tr>\n",
       "      <th>../../tm351/Part 02 Notebooks/02.2.0 Data file formats - file encodings.ipynb</th>\n",
       "      <td>0</td>\n",
       "      <td>1327</td>\n",
       "      <td>33</td>\n",
       "      <td>794.0</td>\n",
       "    </tr>\n",
       "    <tr>\n",
       "      <th>../../tm351/Part 02 Notebooks/02.2.1 Data file formats - CSV.ipynb</th>\n",
       "      <td>0</td>\n",
       "      <td>3225</td>\n",
       "      <td>74</td>\n",
       "      <td>1860.0</td>\n",
       "    </tr>\n",
       "    <tr>\n",
       "      <th>../../tm351/Part 02 Notebooks/02.2.2 Data file formats - JSON.ipynb</th>\n",
       "      <td>0</td>\n",
       "      <td>1001</td>\n",
       "      <td>25</td>\n",
       "      <td>564.0</td>\n",
       "    </tr>\n",
       "    <tr>\n",
       "      <th>../../tm351/Part 02 Notebooks/02.2.3 Data file formats - other.ipynb</th>\n",
       "      <td>0</td>\n",
       "      <td>1795</td>\n",
       "      <td>39</td>\n",
       "      <td>1060.0</td>\n",
       "    </tr>\n",
       "    <tr>\n",
       "      <th>../../tm351/Part 02 Notebooks/02.A Appendix – Fake Data Generation (Optional).ipynb</th>\n",
       "      <td>0</td>\n",
       "      <td>823</td>\n",
       "      <td>20</td>\n",
       "      <td>496.0</td>\n",
       "    </tr>\n",
       "  </tbody>\n",
       "</table>\n",
       "</div>"
      ],
      "text/plain": [
       "                                                                                  n_total_code_lines  \\\n",
       "path                          filename                                                                 \n",
       "../../tm351/Part 02 Notebooks ../../tm351/Part 02 Notebooks/02.1 Pandas Dataf...                  15   \n",
       "                              ../../tm351/Part 02 Notebooks/02.2.0 Data file ...                   0   \n",
       "                              ../../tm351/Part 02 Notebooks/02.2.1 Data file ...                   0   \n",
       "                              ../../tm351/Part 02 Notebooks/02.2.2 Data file ...                   0   \n",
       "                              ../../tm351/Part 02 Notebooks/02.2.3 Data file ...                   0   \n",
       "                              ../../tm351/Part 02 Notebooks/02.A Appendix – F...                   0   \n",
       "\n",
       "                                                                                  n_words  \\\n",
       "path                          filename                                                      \n",
       "../../tm351/Part 02 Notebooks ../../tm351/Part 02 Notebooks/02.1 Pandas Dataf...     2868   \n",
       "                              ../../tm351/Part 02 Notebooks/02.2.0 Data file ...     1327   \n",
       "                              ../../tm351/Part 02 Notebooks/02.2.1 Data file ...     3225   \n",
       "                              ../../tm351/Part 02 Notebooks/02.2.2 Data file ...     1001   \n",
       "                              ../../tm351/Part 02 Notebooks/02.2.3 Data file ...     1795   \n",
       "                              ../../tm351/Part 02 Notebooks/02.A Appendix – F...      823   \n",
       "\n",
       "                                                                                  reading_time_mins  \\\n",
       "path                          filename                                                                \n",
       "../../tm351/Part 02 Notebooks ../../tm351/Part 02 Notebooks/02.1 Pandas Dataf...                 97   \n",
       "                              ../../tm351/Part 02 Notebooks/02.2.0 Data file ...                 33   \n",
       "                              ../../tm351/Part 02 Notebooks/02.2.1 Data file ...                 74   \n",
       "                              ../../tm351/Part 02 Notebooks/02.2.2 Data file ...                 25   \n",
       "                              ../../tm351/Part 02 Notebooks/02.2.3 Data file ...                 39   \n",
       "                              ../../tm351/Part 02 Notebooks/02.A Appendix – F...                 20   \n",
       "\n",
       "                                                                                  reading_time_s  \n",
       "path                          filename                                                            \n",
       "../../tm351/Part 02 Notebooks ../../tm351/Part 02 Notebooks/02.1 Pandas Dataf...          1655.0  \n",
       "                              ../../tm351/Part 02 Notebooks/02.2.0 Data file ...           794.0  \n",
       "                              ../../tm351/Part 02 Notebooks/02.2.1 Data file ...          1860.0  \n",
       "                              ../../tm351/Part 02 Notebooks/02.2.2 Data file ...           564.0  \n",
       "                              ../../tm351/Part 02 Notebooks/02.2.3 Data file ...          1060.0  \n",
       "                              ../../tm351/Part 02 Notebooks/02.A Appendix – F...           496.0  "
      ]
     },
     "execution_count": 71,
     "metadata": {},
     "output_type": "execute_result"
    }
   ],
   "source": [
    "ddf.groupby(['path','filename'])[['n_total_code_lines','n_words',\n",
    "                                  'reading_time_mins', 'reading_time_s' ]].sum()"
   ]
  },
  {
   "cell_type": "code",
   "execution_count": 72,
   "id": "4fdc8b68",
   "metadata": {
    "editable": true,
    "slideshow": {
     "slide_type": ""
    },
    "tags": [
     "active-ipynb"
    ]
   },
   "outputs": [
    {
     "data": {
      "text/plain": [
       "{'../../tm351/Part 02 Notebooks': {'n_words': 11039,\n",
       "  'reading_time_mins': 288,\n",
       "  'reading_time_s': 6429.0}}"
      ]
     },
     "execution_count": 72,
     "metadata": {},
     "output_type": "execute_result"
    }
   ],
   "source": [
    "ddf_dict = ddf.groupby(['path'])[['n_words', 'reading_time_mins',  'reading_time_s' ]].sum().to_dict(orient='index')\n",
    "ddf_dict"
   ]
  },
  {
   "cell_type": "markdown",
   "id": "51d201c5",
   "metadata": {
    "editable": true,
    "slideshow": {
     "slide_type": ""
    },
    "tags": []
   },
   "source": [
    "## Reporting Templates\n",
    "\n",
    "It's all very well having the data in a dataframe, but it could be more useful to be able to generate some written reports. So what might an example report look like?\n",
    "\n",
    "How about something like:\n",
    "\n",
    "> In directory X there were N notebooks. The total markdown wordcount for notebooks in the directory was NN. The total number of lines of code across the notebooks was NN. The total estimated reading time across the notebooks was NN.\n",
    ">\n",
    "> At the notebook level:\n",
    "> - notebook A: markdown wordcount NN, lines of code NN, estimated reading time NN;\n",
    "\n",
    "It might also be useful to provide simple rule (cf. linter rules) that raise warnings about notebooks that go against best practice. For example, notebooks with word counts / code line counts or reading or completion times that exceed recommended limits."
   ]
  },
  {
   "cell_type": "markdown",
   "id": "a005da47",
   "metadata": {
    "editable": true,
    "slideshow": {
     "slide_type": ""
    },
    "tags": []
   },
   "source": [
    "Let's start with a simple template:"
   ]
  },
  {
   "cell_type": "code",
   "execution_count": 73,
   "id": "cff159b0",
   "metadata": {
    "editable": true,
    "slideshow": {
     "slide_type": ""
    },
    "tags": [
     "active-ipynb"
    ]
   },
   "outputs": [],
   "source": [
    "report_template_simple_md = '''\n",
    "In directory `{path}` there were {nb_count} notebooks.\n",
    "The total markdown wordcount for the notebooks in the directory was {n_words} words,\n",
    "with an estimated total reading time of {reading_time_mins} minutes.\n",
    "'''"
   ]
  },
  {
   "cell_type": "markdown",
   "id": "6905a4f1",
   "metadata": {
    "editable": true,
    "slideshow": {
     "slide_type": ""
    },
    "tags": []
   },
   "source": [
    "We can feed this from a `dict` containing fields required by the report template:"
   ]
  },
  {
   "cell_type": "code",
   "execution_count": 74,
   "id": "2598898e",
   "metadata": {
    "editable": true,
    "slideshow": {
     "slide_type": ""
    },
    "tags": []
   },
   "outputs": [],
   "source": [
    "#%pip install deepmerge\n",
    "from deepmerge import always_merger"
   ]
  },
  {
   "cell_type": "code",
   "execution_count": 75,
   "id": "a91f3af2",
   "metadata": {
    "editable": true,
    "slideshow": {
     "slide_type": ""
    },
    "tags": [
     "active-ipynb"
    ]
   },
   "outputs": [
    {
     "data": {
      "text/plain": [
       "{'../../tm351/Part 02 Notebooks': {'n_words': 11039,\n",
       "  'reading_time_mins': 288,\n",
       "  'reading_time_s': 6429.0,\n",
       "  'nb_count': 6,\n",
       "  'path': '../../tm351/Part 02 Notebooks'}}"
      ]
     },
     "execution_count": 75,
     "metadata": {},
     "output_type": "execute_result"
    }
   ],
   "source": [
    "notebook_counts_by_dir = ddf.groupby(['path'])['filename'].nunique().to_dict()\n",
    "notebook_counts_by_dir = {k:{'nb_count':notebook_counts_by_dir[k]} for k in notebook_counts_by_dir}\n",
    "\n",
    "report_dict = always_merger.merge(ddf_dict, notebook_counts_by_dir )\n",
    "for k in report_dict:\n",
    "    report_dict[k]['path'] = k\n",
    "report_dict"
   ]
  },
  {
   "cell_type": "markdown",
   "id": "26cb8f6c",
   "metadata": {
    "editable": true,
    "slideshow": {
     "slide_type": ""
    },
    "tags": []
   },
   "source": [
    "Feeding the `dict` to the template generates the report:"
   ]
  },
  {
   "cell_type": "code",
   "execution_count": 76,
   "id": "a73234b2",
   "metadata": {
    "editable": true,
    "slideshow": {
     "slide_type": ""
    },
    "tags": [
     "active-ipynb"
    ]
   },
   "outputs": [
    {
     "data": {
      "text/plain": [
       "'\\nIn directory `../../tm351/Part 02 Notebooks` there were 6 notebooks.\\nThe total markdown wordcount for the notebooks in the directory was 11039 words,\\nwith an estimated total reading time of 288 minutes.\\n'"
      ]
     },
     "execution_count": 76,
     "metadata": {},
     "output_type": "execute_result"
    }
   ],
   "source": [
    "report_template_simple_md.format(**report_dict[TEST_DIR])"
   ]
  },
  {
   "cell_type": "markdown",
   "id": "4b025323",
   "metadata": {
    "editable": true,
    "slideshow": {
     "slide_type": ""
    },
    "tags": []
   },
   "source": [
    "Create a function to make it easier to generate the feedstocl `dict`:"
   ]
  },
  {
   "cell_type": "code",
   "execution_count": 77,
   "id": "de63b884",
   "metadata": {
    "editable": true,
    "slideshow": {
     "slide_type": ""
    },
    "tags": []
   },
   "outputs": [],
   "source": [
    "def notebook_report_feedstock_md_test(ddf):\n",
    "    \"\"\"Create a feedstock dict for report generation. Keyed by directory path.\"\"\"\n",
    "    ddf_dict = ddf.groupby(['path'])[['n_words', 'reading_time_mins',  'reading_time_s' ]].sum().to_dict(orient='index')\n",
    "    \n",
    "    notebook_counts_by_dir = ddf.groupby(['path'])['filename'].nunique().to_dict()\n",
    "    notebook_counts_by_dir = {k:{'nb_count':notebook_counts_by_dir[k]} for k in notebook_counts_by_dir}\n",
    "    \n",
    "    report_dict = always_merger.merge(ddf_dict, notebook_counts_by_dir )\n",
    "    \n",
    "    for k in report_dict:\n",
    "        report_dict[k]['path'] = k\n",
    "    \n",
    "    return report_dict"
   ]
  },
  {
   "cell_type": "markdown",
   "id": "2bc0006f",
   "metadata": {
    "editable": true,
    "slideshow": {
     "slide_type": ""
    },
    "tags": []
   },
   "source": [
    "We can now use the `notebook_report_feedstock()` function to generate the feedstock `dict` directlry from the report dataframe:"
   ]
  },
  {
   "cell_type": "code",
   "execution_count": 78,
   "id": "60b36caa-c627-455c-a3c1-4ef1932dfcd5",
   "metadata": {
    "editable": true,
    "slideshow": {
     "slide_type": ""
    },
    "tags": [
     "active-ipynb"
    ]
   },
   "outputs": [
    {
     "data": {
      "text/plain": [
       "{'../../tm351/Part 02 Notebooks': {'n_words': 11039,\n",
       "  'reading_time_mins': 288,\n",
       "  'reading_time_s': 6429.0,\n",
       "  'nb_count': 6,\n",
       "  'path': '../../tm351/Part 02 Notebooks'}}"
      ]
     },
     "execution_count": 78,
     "metadata": {},
     "output_type": "execute_result"
    }
   ],
   "source": [
    "notebook_report_feedstock_md_test(ddf)"
   ]
  },
  {
   "cell_type": "markdown",
   "id": "d51bace1",
   "metadata": {
    "editable": true,
    "slideshow": {
     "slide_type": ""
    },
    "tags": []
   },
   "source": [
    "## Code Cell Analysis\n",
    "\n",
    "As well as reporting on markdown cells, we can also generate reports on code cells. (We could also use similar techiques to report on code blocks found in markdown cells.)\n",
    "\n",
    "Possible code cell reports include reporting on:\n",
    "\n",
    "- packages imported into a notebook;\n",
    "- number of lines of code  / code comments;\n",
    "- code complexity.\n",
    "\n",
    "We could also run static analysis tests over *all* the code loaded into a notebook, for example using things like [`importchecker`](https://github.com/zopefoundation/importchecker) to check that imports are actually used.\n",
    "\n",
    "Checks against whether code cells in a notebooks: a) have been run; b) whether they have been run in order are also possible. If we extend the analysis to code cell outputs, we could also report on whether cells had been run without warning or error and what sort of output they produced.\n",
    "\n",
    "Tools such as [`pyflakes`](https://github.com/PyCQA/pyflakes) can also be used to run a wider range of static tests over a codebase, as can other code linters. See also [*Thinking About Things That Might Be Autogradeable or Useful for Automated Marking Support*](https://blog.ouseful.info/2019/12/10/thinking-about-things-that-might-be-autogradeable/) for examples of tests that may be used in autograding, some of which might also be useful for notebook code profiling.\n",
    "\n",
    "It might also be worth trying to collate possible useful guidelines / heuristics / rules of thumb for creating notebooks that could also provide the basis of quality minded linting checks.\n",
    "\n",
    "For example:\n",
    "\n",
    "- a markdown cell should always appear before a code cells to set the context for what the code cell is expected to achieve;\n",
    "- a markdown cell commenting on the output of a code cell immediately preceding may be appropriate in some cases;\n",
    "- one cell should be defined per code cell. A markdown cell immediately following a code cell that defines a function might include a line of text that might also serve as the function doc text, describing what the function does an dprefacing a code cell that demonstrates the behaviour of the function."
   ]
  },
  {
   "cell_type": "markdown",
   "id": "40684bf1",
   "metadata": {
    "editable": true,
    "slideshow": {
     "slide_type": ""
    },
    "tags": []
   },
   "source": [
    "### Generating code reports over a single notebook\n",
    "\n",
    "Let's start to put together some metrics we can run against code cells, either at an individual level or from code aggregated from across all the code cells in a notebook."
   ]
  },
  {
   "cell_type": "code",
   "execution_count": 79,
   "id": "9cff86c8",
   "metadata": {
    "editable": true,
    "slideshow": {
     "slide_type": ""
    },
    "tags": [
     "active-ipynb"
    ]
   },
   "outputs": [
    {
     "data": {
      "text/plain": [
       "['numpy', 'pandas', 'abjad', 'IPython.display']"
      ]
     },
     "execution_count": 79,
     "metadata": {},
     "output_type": "execute_result"
    }
   ],
   "source": [
    "c='''#print\\nimport pandas\\n\\nprint('a')\\nimport abjad\\nimport numpy as np\\nfrom IPython.display import HTML, JSON'''\n",
    "\n",
    "#https://github.com/andrewp-as-is/list-imports.py #list imports\n",
    "#%pip install list-imports\n",
    "import list_imports\n",
    "list_imports.parse(c)\n",
    "#Would also need to capture magics?\n",
    "\n",
    "# TO DO  - NOT CURRENTLY REPORTED"
   ]
  },
  {
   "cell_type": "markdown",
   "id": "ed4ed5a3",
   "metadata": {
    "editable": true,
    "slideshow": {
     "slide_type": ""
    },
    "tags": []
   },
   "source": [
    "Some utilities may not make sense in the reporting when applied at a cell level. For example, it's quite likely that a package imported into a cell may not be used in that cell, which `pyflakes` would report unfavourably on:"
   ]
  },
  {
   "cell_type": "code",
   "execution_count": 80,
   "id": "df42f6d2",
   "metadata": {
    "editable": true,
    "slideshow": {
     "slide_type": ""
    },
    "tags": []
   },
   "outputs": [],
   "source": [
    "#%pip install pyflakes\n",
    "# pyflakes seems to print the report, so we'd need to find a way to capture it\n",
    "from pyflakes.api import check\n",
    "from pyflakes.reporter import Reporter\n",
    "\n",
    "import io"
   ]
  },
  {
   "cell_type": "code",
   "execution_count": 81,
   "id": "aca48484",
   "metadata": {
    "editable": true,
    "slideshow": {
     "slide_type": ""
    },
    "tags": [
     "active-ipynb"
    ]
   },
   "outputs": [
    {
     "data": {
      "text/plain": [
       "\"dummy:1:1: 'pandas as pd' imported but unused\\n\""
      ]
     },
     "execution_count": 81,
     "metadata": {},
     "output_type": "execute_result"
    }
   ],
   "source": [
    "output_w = io.StringIO()\n",
    "output_e = io.StringIO()\n",
    "\n",
    "check('''import pandas as pd''', 'dummy', Reporter(output_w, output_e))\n",
    "output_w.getvalue()"
   ]
  },
  {
   "cell_type": "markdown",
   "id": "9cf7fd95",
   "metadata": {
    "editable": true,
    "slideshow": {
     "slide_type": ""
    },
    "tags": []
   },
   "source": [
    "Another form of analysis that only makes sense at the notebook level is the code cell execution analysis:"
   ]
  },
  {
   "cell_type": "code",
   "execution_count": 82,
   "id": "5021b1c0",
   "metadata": {
    "editable": true,
    "slideshow": {
     "slide_type": ""
    },
    "tags": [
     "active-ipynb"
    ]
   },
   "outputs": [
    {
     "name": "stdout",
     "output_type": "stream",
     "text": [
      "[None, None, 1, None, None] False True\n"
     ]
    }
   ],
   "source": [
    "# Check execution across notebook - TO DO - NOT CURRENTLY REPORTED\n",
    "cell_execution_order = []\n",
    "num_code_cells = 0\n",
    "for cell in nb.cells:\n",
    "    if cell['cell_type']=='code':\n",
    "        cell_execution_order.append(cell['execution_count'])\n",
    "        num_code_cells = num_code_cells + 1\n",
    "\n",
    "\n",
    "_executed_cells = [i for i in cell_execution_order if i is not None and isinstance(i,int) ]\n",
    "in_order_execution = _executed_cells == sorted(_executed_cells)\n",
    "\n",
    "all_cells_executed = len(_executed_cells)==num_code_cells\n",
    "print(cell_execution_order, all_cells_executed, in_order_execution,)"
   ]
  },
  {
   "cell_type": "markdown",
   "id": "8c11f2e2",
   "metadata": {
    "editable": true,
    "slideshow": {
     "slide_type": ""
    },
    "tags": []
   },
   "source": [
    "### Parsing IPython Code\n",
    "\n",
    "One thing to bear in mind is that code cells may contain block magic that switches code from the assumed default Python code to potentially a different language. For this reason, we might want to fall back from the `radon` metrics as a result of trying to load code into a Python AST parser when meeting cells that employ cell block magic, or explore whether an IPyhton parser could be used instead."
   ]
  },
  {
   "cell_type": "markdown",
   "id": "65253fcd",
   "metadata": {
    "editable": true,
    "slideshow": {
     "slide_type": ""
    },
    "tags": []
   },
   "source": [
    "Let's try to cleanse IPython directives such as shell commands (`!` prefix) or magics (`%` prefix) from a code string so that we can present it to `radon`."
   ]
  },
  {
   "cell_type": "code",
   "execution_count": 83,
   "id": "0b3bfe4a",
   "metadata": {
    "editable": true,
    "slideshow": {
     "slide_type": ""
    },
    "tags": []
   },
   "outputs": [],
   "source": [
    "def sanitise_IPython_code(c):\n",
    "    \"\"\"Cleanse an IPython code string so we can parse it with radon.\"\"\"\n",
    "    #Comment out magic and shell commands\n",
    "    c = '\\n'.join([f'#{_r}' if _r.lstrip().startswith(('%','!')) else _r for _r in c.splitlines()])\n",
    "    \n",
    "    return c"
   ]
  },
  {
   "cell_type": "markdown",
   "id": "61298ed5",
   "metadata": {
    "editable": true,
    "slideshow": {
     "slide_type": ""
    },
    "tags": []
   },
   "source": [
    "The `sanitise_IPython_code()` function partially sanitises an IPython code string so that it can be passed to, and parsed by, the `radon`. Note that where magic or shell statements are used on the right hand side of an assignment statement, this will still cause an error."
   ]
  },
  {
   "cell_type": "code",
   "execution_count": 84,
   "id": "eb3ecdca",
   "metadata": {
    "editable": true,
    "slideshow": {
     "slide_type": ""
    },
    "tags": []
   },
   "outputs": [],
   "source": [
    "# Use the `radon` analyzer\n",
    "#%pip install radon\n",
    "from radon.raw import analyze"
   ]
  },
  {
   "cell_type": "code",
   "execution_count": 85,
   "id": "da34b9cc",
   "metadata": {
    "editable": true,
    "slideshow": {
     "slide_type": ""
    },
    "tags": [
     "active-ipynb"
    ]
   },
   "outputs": [
    {
     "name": "stdout",
     "output_type": "stream",
     "text": [
      "#%load_ext magic\n",
      "import pandas\n",
      "\n",
      "#!ls\n",
      "print(a)\n"
     ]
    },
    {
     "data": {
      "text/plain": [
       "(5, 1, 2, 2)"
      ]
     },
     "execution_count": 85,
     "metadata": {},
     "output_type": "execute_result"
    }
   ],
   "source": [
    "c = '''%load_ext magic\\nimport pandas\\n\\n!ls\\nprint(a)'''\n",
    "c = sanitise_IPython_code(c)\n",
    "\n",
    "print(c)\n",
    "n_total_code_lines, n_blank_code_lines, \\\n",
    "    n_single_line_comment_code_lines, n_code_lines = r_analyze(sanitise_IPython_code(c))\n",
    "\n",
    "n_total_code_lines, n_blank_code_lines, n_single_line_comment_code_lines, n_code_lines"
   ]
  },
  {
   "cell_type": "markdown",
   "id": "60ad9e1b",
   "metadata": {
    "editable": true,
    "slideshow": {
     "slide_type": ""
    },
    "tags": []
   },
   "source": [
    "To parse a code cell, we can try to use the `radon` analyser, with a sanitised code string, or fall back to using the simpler code sanitiser. It will also be convenient to return the results as a Python `dict` object."
   ]
  },
  {
   "cell_type": "code",
   "execution_count": 86,
   "id": "a462d528",
   "metadata": {
    "editable": true,
    "slideshow": {
     "slide_type": ""
    },
    "tags": []
   },
   "outputs": [],
   "source": [
    "def robust_code_cell_analyse(c, parser='radon'):\n",
    "    \"\"\"Use the `radon` code analyser if we can else fall back to the simple custom code analyser.\"\"\"\n",
    "    \n",
    "    def cleansed_radon(c):\n",
    "        return r_analyze(sanitise_IPython_code(c))\n",
    "    \n",
    "    if c.startswith('%%'):\n",
    "        #use local code analyser\n",
    "        parser = 'local'\n",
    "\n",
    "    if parser == 'radon':\n",
    "        try:\n",
    "            _response = cleansed_radon(c)\n",
    "        except:\n",
    "            #fallback to simple analyser\n",
    "            _response = code_block_report(c)\n",
    "    else:\n",
    "        _response = code_block_report(c)\n",
    "        \n",
    "    (n_total_code_lines, n_blank_code_lines, \\\n",
    "         n_single_line_comment_code_lines, n_code_lines) = _response\n",
    "    \n",
    "    _reading_time = code_reading_time(n_code_lines, n_single_line_comment_code_lines)\n",
    "    \n",
    "    response = {\n",
    "        'n_total_code_lines': n_total_code_lines,\n",
    "        'n_blank_code_lines': n_blank_code_lines,\n",
    "        'n_single_line_comment_code_lines': n_single_line_comment_code_lines,\n",
    "        'n_code_lines': n_code_lines,\n",
    "        'n_screen_lines':n_total_code_lines,\n",
    "        'reading_time_s':_reading_time,\n",
    "        'reading_time_mins': math.ceil(_reading_time/60)\n",
    "    }\n",
    "    \n",
    "    return response"
   ]
  },
  {
   "cell_type": "markdown",
   "id": "fe1bcede",
   "metadata": {
    "editable": true,
    "slideshow": {
     "slide_type": ""
    },
    "tags": []
   },
   "source": [
    "The robust analyser should cope with  a variety of strings."
   ]
  },
  {
   "cell_type": "code",
   "execution_count": 87,
   "id": "89b90de5",
   "metadata": {
    "editable": true,
    "slideshow": {
     "slide_type": ""
    },
    "tags": [
     "active-ipynb"
    ]
   },
   "outputs": [
    {
     "name": "stdout",
     "output_type": "stream",
     "text": [
      "{'n_total_code_lines': 4, 'n_blank_code_lines': 1, 'n_single_line_comment_code_lines': 2, 'n_code_lines': 1, 'n_screen_lines': 4, 'reading_time_s': 3, 'reading_time_mins': 1}\n",
      "{'n_total_code_lines': 2, 'n_blank_code_lines': 0, 'n_single_line_comment_code_lines': 0, 'n_code_lines': 2, 'n_screen_lines': 2, 'reading_time_s': 2, 'reading_time_mins': 1}\n"
     ]
    }
   ],
   "source": [
    "print(robust_code_cell_analyse('import pandas\\n\\n# comment\\n!ls'))\n",
    "print(robust_code_cell_analyse('%%sql\\nSELECT * FROM TABLE'))"
   ]
  },
  {
   "cell_type": "markdown",
   "id": "6ac5dad5",
   "metadata": {
    "editable": true,
    "slideshow": {
     "slide_type": ""
    },
    "tags": []
   },
   "source": [
    "We now need to start pulling together a function that we can cal to run the basic report and other code cell reports."
   ]
  },
  {
   "cell_type": "code",
   "execution_count": 88,
   "id": "890f3b73",
   "metadata": {
    "editable": true,
    "slideshow": {
     "slide_type": ""
    },
    "tags": []
   },
   "outputs": [],
   "source": [
    "def process_notebook_code_text(txt):\n",
    "    \"\"\"Generate code cell report.\"\"\"\n",
    "    report = pd.DataFrame()\n",
    "    basic_code_report = robust_code_cell_analyse(txt)\n",
    "    return pd.DataFrame([{'text':txt,\n",
    "                          **basic_code_report }])"
   ]
  },
  {
   "cell_type": "markdown",
   "id": "e04c6aab",
   "metadata": {
    "editable": true,
    "slideshow": {
     "slide_type": ""
    },
    "tags": []
   },
   "source": [
    "The report generates a single row report dataframe from a code string:"
   ]
  },
  {
   "cell_type": "code",
   "execution_count": 89,
   "id": "1e94d6d1",
   "metadata": {
    "editable": true,
    "slideshow": {
     "slide_type": ""
    },
    "tags": [
     "active-ipynb"
    ]
   },
   "outputs": [
    {
     "data": {
      "text/html": [
       "<div>\n",
       "<style scoped>\n",
       "    .dataframe tbody tr th:only-of-type {\n",
       "        vertical-align: middle;\n",
       "    }\n",
       "\n",
       "    .dataframe tbody tr th {\n",
       "        vertical-align: top;\n",
       "    }\n",
       "\n",
       "    .dataframe thead th {\n",
       "        text-align: right;\n",
       "    }\n",
       "</style>\n",
       "<table border=\"1\" class=\"dataframe\">\n",
       "  <thead>\n",
       "    <tr style=\"text-align: right;\">\n",
       "      <th></th>\n",
       "      <th>text</th>\n",
       "      <th>n_total_code_lines</th>\n",
       "      <th>n_blank_code_lines</th>\n",
       "      <th>n_single_line_comment_code_lines</th>\n",
       "      <th>n_code_lines</th>\n",
       "      <th>n_screen_lines</th>\n",
       "      <th>reading_time_s</th>\n",
       "      <th>reading_time_mins</th>\n",
       "    </tr>\n",
       "  </thead>\n",
       "  <tbody>\n",
       "    <tr>\n",
       "      <th>0</th>\n",
       "      <td>import pandas\\n\\n# comment\\n!ls</td>\n",
       "      <td>4</td>\n",
       "      <td>1</td>\n",
       "      <td>2</td>\n",
       "      <td>1</td>\n",
       "      <td>4</td>\n",
       "      <td>3</td>\n",
       "      <td>1</td>\n",
       "    </tr>\n",
       "  </tbody>\n",
       "</table>\n",
       "</div>"
      ],
      "text/plain": [
       "                              text  n_total_code_lines  n_blank_code_lines  \\\n",
       "0  import pandas\\n\\n# comment\\n!ls                   4                   1   \n",
       "\n",
       "   n_single_line_comment_code_lines  n_code_lines  n_screen_lines  \\\n",
       "0                                 2             1               4   \n",
       "\n",
       "   reading_time_s  reading_time_mins  \n",
       "0               3                  1  "
      ]
     },
     "execution_count": 89,
     "metadata": {},
     "output_type": "execute_result"
    }
   ],
   "source": [
    "process_notebook_code_text('import pandas\\n\\n# comment\\n!ls')"
   ]
  },
  {
   "cell_type": "markdown",
   "id": "669502bd",
   "metadata": {
    "editable": true,
    "slideshow": {
     "slide_type": ""
    },
    "tags": []
   },
   "source": [
    "In order to process code cells as well as markdown cells in our notebook processer, we will need build on the `process_notebook_md()` function to create a more general one. Note that the current approach will give us an inefficient dataframe, column wise, in that whilst each row represents the report from a code cell *or* a markdown cell, the columns cover reports from both code *and* markdown cells."
   ]
  },
  {
   "cell_type": "code",
   "execution_count": 90,
   "id": "92426587",
   "metadata": {
    "editable": true,
    "slideshow": {
     "slide_type": ""
    },
    "tags": []
   },
   "outputs": [],
   "source": [
    "def process_notebook(nb, fn=''):\n",
    "    \"\"\"Process all the markdown and code cells in a notebook.\"\"\"\n",
    "    cell_reports = pd.DataFrame()\n",
    "\n",
    "    for i, cell in enumerate(nb.cells):\n",
    "        if cell['cell_type']=='markdown':\n",
    "            _metrics = process_notebook_md_doc( nlp( cell['source'] ))\n",
    "            _metrics['cell_index'] = i\n",
    "            _metrics['cell_type'] = 'md'\n",
    "            # cell_reports = cell_reports.append(_metrics, sort=False)\n",
    "            cell_reports = safe_concat([cell_reports, _metrics])\n",
    "        elif cell['cell_type']=='code':\n",
    "            _metrics = process_notebook_code_text(cell['source'] )\n",
    "            _metrics[\"cell_index\"] = i\n",
    "            _metrics['cell_type'] = 'code'\n",
    "            # cell_reports = cell_reports.append(_metrics, sort=False)\n",
    "            cell_reports = safe_concat([cell_reports, _metrics])\n",
    "    cell_reports['filename'] = fn\n",
    "    cell_reports.reset_index(drop=True, inplace=True)\n",
    "    return cell_reports"
   ]
  },
  {
   "cell_type": "code",
   "execution_count": 91,
   "id": "f98f0775-47fd-4f9c-9a33-5977afc2ee58",
   "metadata": {
    "editable": true,
    "slideshow": {
     "slide_type": ""
    },
    "tags": []
   },
   "outputs": [],
   "source": [
    "# This is the full code and markdown processor\n",
    "def process_notebook_file(fn):\n",
    "    \"\"\"Grab cell level statistics across a whole notebook.\"\"\"\n",
    "    \n",
    "    nb = get_nb(fn, display_path=False)\n",
    "    try:\n",
    "        cell_reports = process_notebook(nb, fn=fn)\n",
    "    except:\n",
    "        print(f'FAILED to process {fn}')\n",
    "        cell_reports = pd.DataFrame()\n",
    "        \n",
    "    cell_reports.reset_index(drop=True, inplace=True)\n",
    "    return cell_reports"
   ]
  },
  {
   "cell_type": "markdown",
   "id": "9eda3f20",
   "metadata": {
    "editable": true,
    "slideshow": {
     "slide_type": ""
    },
    "tags": []
   },
   "source": [
    "We should now be able to generate a report that includes statistics from code as well as markdown cells."
   ]
  },
  {
   "cell_type": "code",
   "execution_count": 92,
   "id": "452b638f",
   "metadata": {
    "editable": true,
    "slideshow": {
     "slide_type": ""
    },
    "tags": [
     "active-ipynb"
    ]
   },
   "outputs": [
    {
     "data": {
      "text/html": [
       "<div>\n",
       "<style scoped>\n",
       "    .dataframe tbody tr th:only-of-type {\n",
       "        vertical-align: middle;\n",
       "    }\n",
       "\n",
       "    .dataframe tbody tr th {\n",
       "        vertical-align: top;\n",
       "    }\n",
       "\n",
       "    .dataframe thead th {\n",
       "        text-align: right;\n",
       "    }\n",
       "</style>\n",
       "<table border=\"1\" class=\"dataframe\">\n",
       "  <thead>\n",
       "    <tr style=\"text-align: right;\">\n",
       "      <th></th>\n",
       "      <th>text</th>\n",
       "      <th>n_chars</th>\n",
       "      <th>n_words</th>\n",
       "      <th>n_sents</th>\n",
       "      <th>n_unique_words</th>\n",
       "      <th>n_syllables</th>\n",
       "      <th>n_monosyllable_words</th>\n",
       "      <th>n_polysyllable_words</th>\n",
       "      <th>n_long_words</th>\n",
       "      <th>sentence_length_mean</th>\n",
       "      <th>...</th>\n",
       "      <th>n_code_lines</th>\n",
       "      <th>n_blank_code_lines</th>\n",
       "      <th>n_single_line_comment_code_lines</th>\n",
       "      <th>reading_time_s</th>\n",
       "      <th>reading_time_mins</th>\n",
       "      <th>acronyms</th>\n",
       "      <th>keyterms</th>\n",
       "      <th>cell_index</th>\n",
       "      <th>cell_type</th>\n",
       "      <th>filename</th>\n",
       "    </tr>\n",
       "  </thead>\n",
       "  <tbody>\n",
       "    <tr>\n",
       "      <th>0</th>\n",
       "      <td># Test Notebook for Notebook Profiler\\n\\nThis ...</td>\n",
       "      <td>252.0</td>\n",
       "      <td>40.0</td>\n",
       "      <td>3.0</td>\n",
       "      <td>27.0</td>\n",
       "      <td>73.0</td>\n",
       "      <td>21.0</td>\n",
       "      <td>13.0</td>\n",
       "      <td>15.0</td>\n",
       "      <td>14.666667</td>\n",
       "      <td>...</td>\n",
       "      <td>0</td>\n",
       "      <td>0</td>\n",
       "      <td>0</td>\n",
       "      <td>25.0</td>\n",
       "      <td>1</td>\n",
       "      <td>{}</td>\n",
       "      <td>{}</td>\n",
       "      <td>0</td>\n",
       "      <td>md</td>\n",
       "      <td></td>\n",
       "    </tr>\n",
       "    <tr>\n",
       "      <th>1</th>\n",
       "      <td>## Markdown Cells With Code Blocks\\n\\nThis cel...</td>\n",
       "      <td>163.0</td>\n",
       "      <td>30.0</td>\n",
       "      <td>2.0</td>\n",
       "      <td>22.0</td>\n",
       "      <td>37.0</td>\n",
       "      <td>10.0</td>\n",
       "      <td>3.0</td>\n",
       "      <td>5.0</td>\n",
       "      <td>16.500000</td>\n",
       "      <td>...</td>\n",
       "      <td>2</td>\n",
       "      <td>0</td>\n",
       "      <td>1</td>\n",
       "      <td>18.0</td>\n",
       "      <td>1</td>\n",
       "      <td>{}</td>\n",
       "      <td>{}</td>\n",
       "      <td>1</td>\n",
       "      <td>md</td>\n",
       "      <td></td>\n",
       "    </tr>\n",
       "    <tr>\n",
       "      <th>2</th>\n",
       "      <td>This cell contains two code blocks.\\n\\nHere's ...</td>\n",
       "      <td>229.0</td>\n",
       "      <td>49.0</td>\n",
       "      <td>4.0</td>\n",
       "      <td>23.0</td>\n",
       "      <td>53.0</td>\n",
       "      <td>12.0</td>\n",
       "      <td>5.0</td>\n",
       "      <td>6.0</td>\n",
       "      <td>13.000000</td>\n",
       "      <td>...</td>\n",
       "      <td>4</td>\n",
       "      <td>0</td>\n",
       "      <td>2</td>\n",
       "      <td>28.0</td>\n",
       "      <td>1</td>\n",
       "      <td>{}</td>\n",
       "      <td>{}</td>\n",
       "      <td>2</td>\n",
       "      <td>md</td>\n",
       "      <td></td>\n",
       "    </tr>\n",
       "    <tr>\n",
       "      <th>3</th>\n",
       "      <td># This is a code cell\\nimport pandas\\n\\n#Creat...</td>\n",
       "      <td>NaN</td>\n",
       "      <td>NaN</td>\n",
       "      <td>NaN</td>\n",
       "      <td>NaN</td>\n",
       "      <td>NaN</td>\n",
       "      <td>NaN</td>\n",
       "      <td>NaN</td>\n",
       "      <td>NaN</td>\n",
       "      <td>NaN</td>\n",
       "      <td>...</td>\n",
       "      <td>2</td>\n",
       "      <td>1</td>\n",
       "      <td>2</td>\n",
       "      <td>4.0</td>\n",
       "      <td>1</td>\n",
       "      <td>NaN</td>\n",
       "      <td>NaN</td>\n",
       "      <td>3</td>\n",
       "      <td>code</td>\n",
       "      <td></td>\n",
       "    </tr>\n",
       "    <tr>\n",
       "      <th>4</th>\n",
       "      <td># This is a code cell with a magic...\\n\\n%matp...</td>\n",
       "      <td>NaN</td>\n",
       "      <td>NaN</td>\n",
       "      <td>NaN</td>\n",
       "      <td>NaN</td>\n",
       "      <td>NaN</td>\n",
       "      <td>NaN</td>\n",
       "      <td>NaN</td>\n",
       "      <td>NaN</td>\n",
       "      <td>NaN</td>\n",
       "      <td>...</td>\n",
       "      <td>3</td>\n",
       "      <td>2</td>\n",
       "      <td>2</td>\n",
       "      <td>5.0</td>\n",
       "      <td>1</td>\n",
       "      <td>NaN</td>\n",
       "      <td>NaN</td>\n",
       "      <td>4</td>\n",
       "      <td>code</td>\n",
       "      <td></td>\n",
       "    </tr>\n",
       "  </tbody>\n",
       "</table>\n",
       "<p>5 rows × 34 columns</p>\n",
       "</div>"
      ],
      "text/plain": [
       "                                                text  n_chars  n_words  \\\n",
       "0  # Test Notebook for Notebook Profiler\\n\\nThis ...    252.0     40.0   \n",
       "1  ## Markdown Cells With Code Blocks\\n\\nThis cel...    163.0     30.0   \n",
       "2  This cell contains two code blocks.\\n\\nHere's ...    229.0     49.0   \n",
       "3  # This is a code cell\\nimport pandas\\n\\n#Creat...      NaN      NaN   \n",
       "4  # This is a code cell with a magic...\\n\\n%matp...      NaN      NaN   \n",
       "\n",
       "   n_sents  n_unique_words  n_syllables  n_monosyllable_words  \\\n",
       "0      3.0            27.0         73.0                  21.0   \n",
       "1      2.0            22.0         37.0                  10.0   \n",
       "2      4.0            23.0         53.0                  12.0   \n",
       "3      NaN             NaN          NaN                   NaN   \n",
       "4      NaN             NaN          NaN                   NaN   \n",
       "\n",
       "   n_polysyllable_words  n_long_words  sentence_length_mean  ...  \\\n",
       "0                  13.0          15.0             14.666667  ...   \n",
       "1                   3.0           5.0             16.500000  ...   \n",
       "2                   5.0           6.0             13.000000  ...   \n",
       "3                   NaN           NaN                   NaN  ...   \n",
       "4                   NaN           NaN                   NaN  ...   \n",
       "\n",
       "   n_code_lines  n_blank_code_lines n_single_line_comment_code_lines  \\\n",
       "0             0                   0                                0   \n",
       "1             2                   0                                1   \n",
       "2             4                   0                                2   \n",
       "3             2                   1                                2   \n",
       "4             3                   2                                2   \n",
       "\n",
       "   reading_time_s  reading_time_mins  acronyms  keyterms cell_index  \\\n",
       "0            25.0                  1        {}        {}          0   \n",
       "1            18.0                  1        {}        {}          1   \n",
       "2            28.0                  1        {}        {}          2   \n",
       "3             4.0                  1       NaN       NaN          3   \n",
       "4             5.0                  1       NaN       NaN          4   \n",
       "\n",
       "   cell_type  filename  \n",
       "0         md            \n",
       "1         md            \n",
       "2         md            \n",
       "3       code            \n",
       "4       code            \n",
       "\n",
       "[5 rows x 34 columns]"
      ]
     },
     "execution_count": 92,
     "metadata": {},
     "output_type": "execute_result"
    }
   ],
   "source": [
    "report = process_notebook(nb)\n",
    "report.head(5)"
   ]
  },
  {
   "cell_type": "markdown",
   "id": "291cead2",
   "metadata": {
    "editable": true,
    "slideshow": {
     "slide_type": ""
    },
    "tags": []
   },
   "source": [
    "Let's just check what columns we are potentially reporting on:"
   ]
  },
  {
   "cell_type": "code",
   "execution_count": 93,
   "id": "47314018",
   "metadata": {
    "editable": true,
    "slideshow": {
     "slide_type": ""
    },
    "tags": [
     "active-ipynb"
    ]
   },
   "outputs": [
    {
     "data": {
      "text/plain": [
       "Index(['text', 'n_chars', 'n_words', 'n_sents', 'n_unique_words',\n",
       "       'n_syllables', 'n_monosyllable_words', 'n_polysyllable_words',\n",
       "       'n_long_words', 'sentence_length_mean', 'sentence_length_median',\n",
       "       'sentence_length_stdev', 'sentence_legths', 'flesch_reading_ease',\n",
       "       'flesch_kincaid_grade_level', 'automated_readability_index',\n",
       "       'coleman_liau_index', 'smog_index', 'gunning_fog_index', 'n_headers',\n",
       "       'n_paras', 'n_screen_lines', 'n_code_blocks', 'n_total_code_lines',\n",
       "       'n_code_lines', 'n_blank_code_lines',\n",
       "       'n_single_line_comment_code_lines', 'reading_time_s',\n",
       "       'reading_time_mins', 'acronyms', 'keyterms', 'cell_index', 'cell_type',\n",
       "       'filename'],\n",
       "      dtype='object')"
      ]
     },
     "execution_count": 93,
     "metadata": {},
     "output_type": "execute_result"
    }
   ],
   "source": [
    "report.columns"
   ]
  },
  {
   "cell_type": "markdown",
   "id": "b8602b29",
   "metadata": {
    "editable": true,
    "slideshow": {
     "slide_type": ""
    },
    "tags": []
   },
   "source": [
    "And let's see if our directory processor now also includes code cell statistics:"
   ]
  },
  {
   "cell_type": "code",
   "execution_count": 94,
   "id": "fd89dc2b",
   "metadata": {
    "editable": true,
    "slideshow": {
     "slide_type": ""
    },
    "tags": [
     "active-ipynb"
    ]
   },
   "outputs": [
    {
     "data": {
      "text/plain": [
       "cell_type\n",
       "md      264\n",
       "code    174\n",
       "Name: count, dtype: int64"
      ]
     },
     "execution_count": 94,
     "metadata": {},
     "output_type": "execute_result"
    }
   ],
   "source": [
    "ddf2 = nb_multidir_profiler(TEST_DIR)\n",
    "ddf2['cell_type'].value_counts()"
   ]
  },
  {
   "cell_type": "markdown",
   "id": "a959b8df",
   "metadata": {
    "editable": true,
    "slideshow": {
     "slide_type": ""
    },
    "tags": []
   },
   "source": [
    "Let's also check to see how the code cells are reported:"
   ]
  },
  {
   "cell_type": "code",
   "execution_count": 95,
   "id": "4e158be8",
   "metadata": {
    "editable": true,
    "slideshow": {
     "slide_type": ""
    },
    "tags": [
     "active-ipynb"
    ]
   },
   "outputs": [
    {
     "data": {
      "text/plain": [
       "n_code_blocks                         0.0\n",
       "n_total_code_lines                  511.0\n",
       "n_code_lines                        357.0\n",
       "n_blank_code_lines                   63.0\n",
       "n_single_line_comment_code_lines     89.0\n",
       "dtype: float64"
      ]
     },
     "execution_count": 95,
     "metadata": {},
     "output_type": "execute_result"
    }
   ],
   "source": [
    "code_cols = [c for c in ddf2.columns if 'code' in c]\n",
    "ddf2[ddf2['cell_type']=='code'][code_cols].sum()"
   ]
  },
  {
   "cell_type": "markdown",
   "id": "b1a3851d",
   "metadata": {
    "editable": true,
    "slideshow": {
     "slide_type": ""
    },
    "tags": []
   },
   "source": [
    "### Generating Reports Across Multiple Directories\n",
    "\n",
    "We are now in a position to start generating rich report for notebooks across several directories.\n",
    "\n",
    "Let's grab data for notebooks across an example set of directories:"
   ]
  },
  {
   "cell_type": "code",
   "execution_count": 96,
   "id": "7bc41b04",
   "metadata": {
    "editable": true,
    "slideshow": {
     "slide_type": ""
    },
    "tags": [
     "active-ipynb"
    ]
   },
   "outputs": [],
   "source": [
    "#ddf3 = nb_multidir_profiler('../tm351-undercertainty/notebooks/tm351/')\n",
    "ddf3=ddf2"
   ]
  },
  {
   "cell_type": "markdown",
   "id": "212a13ad",
   "metadata": {
    "editable": true,
    "slideshow": {
     "slide_type": ""
    },
    "tags": []
   },
   "source": [
    "And just quickly test we can generate a report that summarises the notebooks in each directory:"
   ]
  },
  {
   "cell_type": "code",
   "execution_count": 97,
   "id": "1dfe7444",
   "metadata": {
    "editable": true,
    "slideshow": {
     "slide_type": ""
    },
    "tags": [
     "active-ipynb"
    ]
   },
   "outputs": [
    {
     "name": "stdout",
     "output_type": "stream",
     "text": [
      "\n",
      "\n",
      "\n",
      "In directory `../../tm351/Part 02 Notebooks` there were 6 notebooks.\n",
      "The total markdown wordcount for the notebooks in the directory was 11039.0 words,\n",
      "with an estimated total reading time of 462 minutes.\n",
      "\n"
     ]
    }
   ],
   "source": [
    "big_feedstock = notebook_report_feedstock_md_test(ddf3)\n",
    "report_txt=''\n",
    "for d in big_feedstock:\n",
    "    if 'tm351/Part ' in d:\n",
    "        report_txt = report_txt + '\\n\\n' + report_template_simple_md.format(**big_feedstock[d])\n",
    "\n",
    "print(report_txt[:500])"
   ]
  },
  {
   "cell_type": "markdown",
   "id": "d52507ff",
   "metadata": {
    "editable": true,
    "slideshow": {
     "slide_type": ""
    },
    "tags": []
   },
   "source": [
    "Let's update the report template and the report feedstock function.\n",
    "\n",
    "First, what shall we report on?"
   ]
  },
  {
   "cell_type": "code",
   "execution_count": 98,
   "id": "ba6afef3",
   "metadata": {
    "editable": true,
    "slideshow": {
     "slide_type": ""
    },
    "tags": [
     "active-ipynb"
    ]
   },
   "outputs": [
    {
     "data": {
      "text/plain": [
       "Index(['text', 'n_chars', 'n_words', 'n_sents', 'n_unique_words',\n",
       "       'n_syllables', 'n_monosyllable_words', 'n_polysyllable_words',\n",
       "       'n_long_words', 'sentence_length_mean', 'sentence_length_median',\n",
       "       'sentence_length_stdev', 'sentence_legths', 'flesch_reading_ease',\n",
       "       'flesch_kincaid_grade_level', 'automated_readability_index',\n",
       "       'coleman_liau_index', 'smog_index', 'gunning_fog_index', 'n_headers',\n",
       "       'n_paras', 'n_screen_lines', 'n_code_blocks', 'n_total_code_lines',\n",
       "       'n_code_lines', 'n_blank_code_lines',\n",
       "       'n_single_line_comment_code_lines', 'reading_time_s',\n",
       "       'reading_time_mins', 'acronyms', 'keyterms', 'cell_index', 'cell_type',\n",
       "       'filename', 'path'],\n",
       "      dtype='object')"
      ]
     },
     "execution_count": 98,
     "metadata": {},
     "output_type": "execute_result"
    }
   ],
   "source": [
    "ddf3.columns"
   ]
  },
  {
   "cell_type": "markdown",
   "id": "7f63f9b0",
   "metadata": {
    "editable": true,
    "slideshow": {
     "slide_type": ""
    },
    "tags": []
   },
   "source": [
    "Let's make a start on a complete report template..."
   ]
  },
  {
   "cell_type": "code",
   "execution_count": 99,
   "id": "f4e445f2",
   "metadata": {
    "editable": true,
    "slideshow": {
     "slide_type": ""
    },
    "tags": []
   },
   "outputs": [],
   "source": [
    "report_template_dir = '''\n",
    "In directory `{path}` there are {nb_count} notebooks.\n",
    "\n",
    "- total markdown wordcount {n_words} words across {n_md_cells} markdown cells\n",
    "- total code line count of {n_total_code_lines} lines of code across {n_code_cells} code cells\n",
    "  - {n_code_lines} code lines, {n_single_line_comment_code_lines} comment lines and {n_blank_code_lines} blank lines\n",
    "\n",
    "Estimated total reading time of {reading_time_mins} minutes.\n",
    "\n",
    "'''"
   ]
  },
  {
   "cell_type": "code",
   "execution_count": 100,
   "id": "28cd864c",
   "metadata": {
    "editable": true,
    "lines_to_next_cell": 1,
    "slideshow": {
     "slide_type": ""
    },
    "tags": []
   },
   "outputs": [],
   "source": [
    "report_template_nb = \"\"\"\n",
    "Report for {path}/{name}:\n",
    "\n",
    "- total markdown wordcount {n_words} words across {n_md_cells} markdown cells\n",
    "- total code line count of {n_total_code_lines} lines of code across {n_code_cells} code cells\n",
    "  - {n_code_lines} code lines, {n_single_line_comment_code_lines} comment lines and {n_blank_code_lines} blank lines\n",
    "\n",
    "Estimated total reading time of {reading_time_mins} minutes.\n",
    "\n",
    "\"\"\""
   ]
  },
  {
   "cell_type": "code",
   "execution_count": 101,
   "id": "433a1649",
   "metadata": {
    "editable": true,
    "lines_to_next_cell": 1,
    "slideshow": {
     "slide_type": ""
    },
    "tags": []
   },
   "outputs": [],
   "source": [
    "# Now let's add those extra requirements to the the feedstock generator:\n",
    "def notebook_report_feedstock(ddf, grouper=None):\n",
    "    \"\"\"Create a feedstock dict for report generation. Keyed by directory path and optionally by name.\"\"\"\n",
    "    if grouper is None:\n",
    "        grouper = [\"path\"]\n",
    "\n",
    "    ddf_dict = (\n",
    "        ddf.groupby(grouper)[\n",
    "            [\n",
    "                \"n_words\",\n",
    "                \"reading_time_mins\",\n",
    "                \"reading_time_s\",\n",
    "                \"n_code_lines\",\n",
    "                \"n_single_line_comment_code_lines\",\n",
    "                \"n_total_code_lines\",\n",
    "                \"n_blank_code_lines\",\n",
    "            ]\n",
    "        ]\n",
    "        .sum()\n",
    "        .to_dict(orient=\"index\")\n",
    "    )\n",
    "\n",
    "    notebook_counts = ddf.groupby(grouper)[\"filename\"].nunique().to_dict()\n",
    "    notebook_counts = {k: {\"nb_count\": notebook_counts[k]} for k in notebook_counts}\n",
    "\n",
    "    report_dict = always_merger.merge(ddf_dict, notebook_counts)\n",
    "\n",
    "    code_cell_counts = ddf[ddf[\"cell_type\"] == \"code\"].groupby(grouper).size().to_dict()\n",
    "    md_cell_counts = ddf[ddf[\"cell_type\"] == \"md\"].groupby(grouper).size().to_dict()\n",
    "\n",
    "    for k in report_dict:\n",
    "        report_dict[k][\"path\"] = k[0] if isinstance(k, tuple) else k\n",
    "        if isinstance(k, tuple) and len(k) > 1:\n",
    "            report_dict[k][\"name\"] = k[1]\n",
    "        report_dict[k][\"n_code_cells\"] = (\n",
    "            code_cell_counts[k] if k in code_cell_counts else \"NA\"\n",
    "        )\n",
    "        report_dict[k][\"n_md_cells\"] = (\n",
    "            md_cell_counts[k] if k in md_cell_counts else \"NA\"\n",
    "        )\n",
    "\n",
    "    return report_dict"
   ]
  },
  {
   "cell_type": "code",
   "execution_count": 102,
   "id": "5d50e671",
   "metadata": {
    "editable": true,
    "slideshow": {
     "slide_type": ""
    },
    "tags": []
   },
   "outputs": [],
   "source": [
    "from collections import defaultdict"
   ]
  },
  {
   "cell_type": "code",
   "execution_count": 103,
   "id": "a7b6fdfb",
   "metadata": {
    "editable": true,
    "lines_to_next_cell": 1,
    "slideshow": {
     "slide_type": ""
    },
    "tags": []
   },
   "outputs": [],
   "source": [
    "def notebook_report_feedstock(ddf, grouper=None):\n",
    "    \"\"\"Create a feedstock dict for report generation. Keyed by directory path and optionally by name.\"\"\"\n",
    "    if grouper is None:\n",
    "        grouper = [\"path\"]\n",
    "\n",
    "    ddf_dict = (\n",
    "        ddf.groupby(grouper)[\n",
    "            [\n",
    "                \"n_words\",\n",
    "                \"reading_time_mins\",\n",
    "                \"reading_time_s\",\n",
    "                \"n_code_lines\",\n",
    "                \"n_single_line_comment_code_lines\",\n",
    "                \"n_total_code_lines\",\n",
    "                \"n_blank_code_lines\",\n",
    "            ]\n",
    "        ]\n",
    "        .sum()\n",
    "        .to_dict(orient=\"index\")\n",
    "    )\n",
    "\n",
    "    notebook_counts = ddf.groupby(grouper)[\"filename\"].nunique().to_dict()\n",
    "    notebook_counts = {k: {\"nb_count\": notebook_counts[k]} for k in notebook_counts}\n",
    "\n",
    "    report_dict = always_merger.merge(ddf_dict, notebook_counts)\n",
    "\n",
    "    code_cell_counts = ddf[ddf[\"cell_type\"] == \"code\"].groupby(grouper).size().to_dict()\n",
    "    md_cell_counts = ddf[ddf[\"cell_type\"] == \"md\"].groupby(grouper).size().to_dict()\n",
    "\n",
    "    for k in report_dict:\n",
    "        report_dict[k][\"path\"] = k[0] if isinstance(k, tuple) else k\n",
    "        if isinstance(k, tuple) and len(k) > 1:\n",
    "            report_dict[k][\"name\"] = k[1]\n",
    "        report_dict[k][\"n_code_cells\"] = (\n",
    "            code_cell_counts[k] if k in code_cell_counts else \"NA\"\n",
    "        )\n",
    "        report_dict[k][\"n_md_cells\"] = (\n",
    "            md_cell_counts[k] if k in md_cell_counts else \"NA\"\n",
    "        )\n",
    "\n",
    "    return report_dict"
   ]
  },
  {
   "cell_type": "code",
   "execution_count": 104,
   "id": "e0e7ddb0",
   "metadata": {
    "editable": true,
    "slideshow": {
     "slide_type": ""
    },
    "tags": []
   },
   "outputs": [],
   "source": [
    "# via claude.ai\n",
    "def multi_level_reporter(\n",
    "    df,\n",
    "    dir_template,\n",
    "    item_template,\n",
    "    path_filter=\"\",\n",
    "    group_by_dir=True,\n",
    "    include_dir_report=True,\n",
    "    dir_separator=\"\",\n",
    "):\n",
    "    \"\"\"\n",
    "    Generate a multi-level report with directory and item level information.\n",
    "\n",
    "    Args:\n",
    "    df (DataFrame): The input dataframe\n",
    "    dir_template (str): Template string for directory-level reports\n",
    "    item_template (str): Template string for item-level reports\n",
    "    path_filter (str): Filter string for paths\n",
    "    group_by_dir (bool): If True, group reports by directory. If False, list all directory reports first, then all item reports.\n",
    "    include_dir_report (bool): If False, only item reports will be generated\n",
    "    dir_separator (str): String to insert between directory reports (e.g., '---' for a line break)\n",
    "    \"\"\"\n",
    "    dir_feedstock = notebook_report_feedstock(df, grouper=[\"path\"])\n",
    "    item_feedstock = notebook_report_feedstock(df, grouper=[\"path\", \"name\"])\n",
    "\n",
    "    if group_by_dir:\n",
    "        return _grouped_report(\n",
    "            dir_feedstock,\n",
    "            item_feedstock,\n",
    "            dir_template,\n",
    "            item_template,\n",
    "            path_filter,\n",
    "            include_dir_report,\n",
    "            dir_separator,\n",
    "        )\n",
    "    else:\n",
    "        return _separated_report(\n",
    "            dir_feedstock,\n",
    "            item_feedstock,\n",
    "            dir_template,\n",
    "            item_template,\n",
    "            path_filter,\n",
    "            include_dir_report,\n",
    "            dir_separator,\n",
    "        )"
   ]
  },
  {
   "cell_type": "code",
   "execution_count": 105,
   "id": "d7f0b4ba",
   "metadata": {
    "editable": true,
    "slideshow": {
     "slide_type": ""
    },
    "tags": []
   },
   "outputs": [],
   "source": [
    "def _grouped_report(\n",
    "    dir_feedstock,\n",
    "    item_feedstock,\n",
    "    dir_template,\n",
    "    item_template,\n",
    "    path_filter,\n",
    "    include_dir_report,\n",
    "    dir_separator,\n",
    "):\n",
    "    \"\"\"Generate a report where each directory report is immediately followed by its item reports.\"\"\"\n",
    "    report_txt = \"\"\n",
    "    item_reports = defaultdict(list)\n",
    "\n",
    "    # Group item reports by directory\n",
    "    for item in item_feedstock:\n",
    "        if path_filter in item[0]:  # item[0] is the path\n",
    "            item_report = item_template.format(**item_feedstock[item])\n",
    "            item_reports[item[0]].append(item_report)\n",
    "\n",
    "    # Generate directory reports with nested item reports\n",
    "    for i, directory in enumerate(dir_feedstock):\n",
    "        if path_filter in directory:\n",
    "            if include_dir_report:\n",
    "                dir_report = dir_template.format(**dir_feedstock[directory])\n",
    "                report_txt += (\"\\n\\n\" if i > 0 else \"\") + dir_report\n",
    "            if directory in item_reports:\n",
    "                report_txt += \"\\n\" + \"\\n\".join(item_reports[directory])\n",
    "            if dir_separator and i < len(dir_feedstock) - 1:\n",
    "                report_txt += f\"\\n\\n{dir_separator}\"\n",
    "\n",
    "    return report_txt"
   ]
  },
  {
   "cell_type": "code",
   "execution_count": 106,
   "id": "8b8b42f9",
   "metadata": {
    "editable": true,
    "slideshow": {
     "slide_type": ""
    },
    "tags": []
   },
   "outputs": [],
   "source": [
    "def _separated_report(\n",
    "    dir_feedstock,\n",
    "    item_feedstock,\n",
    "    dir_template,\n",
    "    item_template,\n",
    "    path_filter,\n",
    "    include_dir_report,\n",
    "    dir_separator,\n",
    "):\n",
    "    \"\"\"Generate a report with all directory reports first, followed by all item reports.\"\"\"\n",
    "    dir_report_txt = \"\"\n",
    "    item_report_txt = \"\"\n",
    "\n",
    "    # Generate all directory reports\n",
    "    if include_dir_report:\n",
    "        for i, directory in enumerate(dir_feedstock):\n",
    "            if path_filter in directory:\n",
    "                dir_report = dir_template.format(**dir_feedstock[directory])\n",
    "                dir_report_txt += (\"\\n\\n\" if i > 0 else \"\") + dir_report\n",
    "                if dir_separator and i < len(dir_feedstock) - 1:\n",
    "                    dir_report_txt += f\"\\n\\n{dir_separator}\"\n",
    "\n",
    "    # Generate all item reports\n",
    "    for item in item_feedstock:\n",
    "        if path_filter in item[0]:  # item[0] is the path\n",
    "            item_report = item_template.format(**item_feedstock[item])\n",
    "            item_report_txt += \"\\n\" + item_report\n",
    "\n",
    "    return (dir_report_txt + \"\\n\\n\" + item_report_txt).strip()"
   ]
  },
  {
   "cell_type": "markdown",
   "id": "e9224d9f",
   "metadata": {
    "editable": true,
    "slideshow": {
     "slide_type": ""
    },
    "tags": []
   },
   "source": [
    "Create a wrapper function for generating the report text:"
   ]
  },
  {
   "cell_type": "code",
   "execution_count": 107,
   "id": "dcf9190c",
   "metadata": {
    "editable": true,
    "slideshow": {
     "slide_type": ""
    },
    "tags": []
   },
   "outputs": [],
   "source": [
    "def simple_reporter(df, template, path_filter='', nb_report=True):\n",
    "    feedstock = notebook_report_feedstock(df)\n",
    "    report_txt=''\n",
    "    for d in feedstock:\n",
    "        if path_filter in d:\n",
    "            report_txt = report_txt + '\\n\\n' + template.format(**feedstock[d])\n",
    "    return report_txt"
   ]
  },
  {
   "cell_type": "markdown",
   "id": "f4beb89b",
   "metadata": {
    "editable": true,
    "slideshow": {
     "slide_type": ""
    },
    "tags": []
   },
   "source": [
    "We can now use the `reporter()` function to generate a report based on filtered paths from a report dataframe and a template:"
   ]
  },
  {
   "cell_type": "code",
   "execution_count": 110,
   "id": "5de25245",
   "metadata": {
    "editable": true,
    "slideshow": {
     "slide_type": ""
    },
    "tags": [
     "active-ipynb"
    ]
   },
   "outputs": [],
   "source": [
    "#print(simple_reporter(ddf2, report_template_full, 'tm351/Part '))"
   ]
  },
  {
   "cell_type": "code",
   "execution_count": 111,
   "id": "2f7a1b0d",
   "metadata": {
    "editable": true,
    "slideshow": {
     "slide_type": ""
    },
    "tags": [
     "active-ipynb"
    ]
   },
   "outputs": [],
   "source": [
    "#print(simple_reporter(ddf3, report_template_full, 'tm351/Part ').replace('../Documents/GitHub/tm351-undercertainty/notebooks/tm351/',''))"
   ]
  },
  {
   "cell_type": "markdown",
   "id": "825063e4-c535-46f1-a114-979392774b52",
   "metadata": {
    "editable": true,
    "slideshow": {
     "slide_type": ""
    },
    "tags": []
   },
   "source": [
    "### Generate Charts to Visualise Notebook Stats\n",
    "\n",
    "Generate some simple chart versions of the reports.\n",
    "\n",
    "For example, bar charts of cell counts by notebook by directory."
   ]
  },
  {
   "cell_type": "code",
   "execution_count": 117,
   "id": "73268f8e-5ba3-41e1-81e0-11480e8b814c",
   "metadata": {
    "editable": true,
    "slideshow": {
     "slide_type": ""
    },
    "tags": []
   },
   "outputs": [],
   "source": [
    "import seaborn as sns\n",
    "import matplotlib.pyplot as plt"
   ]
  },
  {
   "cell_type": "code",
   "execution_count": 126,
   "id": "dc4ca938-4f8f-4637-a011-85ec8d059f44",
   "metadata": {
    "editable": true,
    "slideshow": {
     "slide_type": ""
    },
    "tags": [
     "active-ipynb"
    ]
   },
   "outputs": [
    {
     "data": {
      "text/plain": [
       "<matplotlib.legend.Legend at 0x34d0aec90>"
      ]
     },
     "execution_count": 126,
     "metadata": {},
     "output_type": "execute_result"
    },
    {
     "data": {
      "image/png": "[encoded data removed]",
      "text/plain": [
       "<Figure size 640x480 with 1 Axes>"
      ]
     },
     "metadata": {},
     "output_type": "display_data"
    }
   ],
   "source": [
    "# Count the number of md and code cells for each notebook\n",
    "count_df = ddf2.groupby(['filename', 'cell_type']).size().reset_index(name='count')\n",
    "\n",
    "# Create the bar plot\n",
    "sns.barplot(x=\"filename\", y=\"count\", hue=\"cell_type\", data=count_df)\n",
    "\n",
    "# Customize the plot\n",
    "plt.title(\"Count of Markdown and Code Cells per Notebook\")\n",
    "plt.ylabel(\"Number of Cells\")\n",
    "plt.xlabel(\"Notebook\")\n",
    "plt.xticks(rotation=45)  # Rotate notebook names if needed\n",
    "plt.legend(title=\"Cell Type\")"
   ]
  },
  {
   "cell_type": "code",
   "execution_count": 128,
   "id": "85cc0fa7-e407-4b46-acdc-820aab3d4310",
   "metadata": {
    "editable": true,
    "slideshow": {
     "slide_type": ""
    },
    "tags": [
     "active-ipynb"
    ]
   },
   "outputs": [
    {
     "data": {
      "image/png": "[encoded data removed]",
      "text/plain": [
       "<Figure size 640x480 with 1 Axes>"
      ]
     },
     "metadata": {},
     "output_type": "display_data"
    }
   ],
   "source": [
    "# Iterate over each unique path\n",
    "for directory in ddf2[\"path\"].unique():\n",
    "    # Filter the DataFrame for the current directory\n",
    "    directory_df = ddf2[ddf2[\"path\"] == directory]\n",
    "    \n",
    "    # Count the number of md and code cells for each notebook within the directory\n",
    "    count_df = directory_df.groupby(['filename', 'cell_type']).size().reset_index(name='count')\n",
    "    \n",
    "    # Create the bar plot\n",
    "    sns.barplot(x=\"filename\", y=\"count\", hue=\"cell_type\", data=count_df)\n",
    "    \n",
    "    # Customize the plot\n",
    "    plt.title(f\"Count of Markdown and Code Cells for Notebooks in {directory}\")\n",
    "    plt.ylabel(\"Number of Cells\")\n",
    "    plt.xlabel(\"Notebook\")\n",
    "    plt.xticks(rotation=45, ha='right')  # Rotate notebook names if needed\n",
    "    plt.legend(title=\"Cell Type\")\n",
    "    \n",
    "    # Show the plot\n",
    "    plt.show()"
   ]
  },
  {
   "cell_type": "markdown",
   "id": "d1954814",
   "metadata": {
    "slideshow": {
     "slide_type": ""
    },
    "tags": []
   },
   "source": [
    "## Visualising Notebook Structure\n",
    "\n",
    "To provide a glanceable, macroscopic way of comparing the size and structure of multiple notebooks, we can generate a simple visualisation based on screen line counts and colour codes for different cell types or cell state.\n",
    "\n",
    "Reports that include cell index and a simple line count (for example, reprting the number of code lines or screen lines for markdown) can be rendered directly as linear visualisations showing the overall structure of a notebook.\n",
    "\n",
    "For example:\n",
    "\n",
    "- markdown: header;\n",
    "- markdown: paragraph;\n",
    "- markdown: code block;\n",
    "- markdown: blank line;\n",
    "- code: code;\n",
    "- code: comment;\n",
    "- code: magic;\n",
    "- code: blank line;\n",
    "- other: other cells.\n",
    "\n",
    "To profile within a cell requires access to cell internals, or generating a cell profile during cell processing.\n",
    "\n",
    "However, it's easy enough to generate a view over the code and markdown cells.\n",
    "\n",
    "Let's start by exploring a simple representation:"
   ]
  },
  {
   "cell_type": "code",
   "execution_count": null,
   "id": "eb2cdc3f",
   "metadata": {
    "editable": true,
    "slideshow": {
     "slide_type": ""
    },
    "tags": []
   },
   "outputs": [],
   "source": [
    "#%pip install matplotlib==3.7.5"
   ]
  },
  {
   "cell_type": "code",
   "execution_count": null,
   "id": "baae2221",
   "metadata": {},
   "outputs": [],
   "source": [
    "import matplotlib.pyplot as plt\n",
    "%matplotlib inline"
   ]
  },
  {
   "cell_type": "code",
   "execution_count": null,
   "id": "b8527659",
   "metadata": {
    "tags": [
     "active-ipynb"
    ]
   },
   "outputs": [],
   "source": [
    "fig, ax = plt.subplots()\n",
    "ax.axis('off')\n",
    "\n",
    "#Simple representation of lines per cell and cell colour based on cell type\n",
    "n_c = [(1, 'r'), (2, 'pink'), (1, 'cornflowerblue'), (2, 'pink')]\n",
    "\n",
    "x = 0\n",
    "y = 0\n",
    "\n",
    "for height, color in n_c:\n",
    "    _y = y + height\n",
    "    plt.plot([x, x], [y, _y], color=color, linewidth=5)\n",
    "    y = _y  # may want to add a gap when moving from one cell to next\n",
    "\n",
    "plt.gca().invert_yaxis()\n",
    "plt.show()"
   ]
  },
  {
   "cell_type": "markdown",
   "id": "46e931e0",
   "metadata": {},
   "source": [
    "We can get the list of cell size and colour tuples from a notebook's report data frame:"
   ]
  },
  {
   "cell_type": "code",
   "execution_count": null,
   "id": "51298b04",
   "metadata": {},
   "outputs": [],
   "source": [
    "VIS_COLOUR_MAP  = {'md':'cornflowerblue','code':'pink'}\n",
    "\n",
    "def cell_attrib(cell, colour='cell_type', size='n_screen_lines'):\n",
    "    _colour = VIS_COLOUR_MAP[ cell[colour] ]\n",
    "    return (cell[size], _colour)"
   ]
  },
  {
   "cell_type": "code",
   "execution_count": null,
   "id": "a5a09ef3",
   "metadata": {
    "tags": [
     "active-ipynb"
    ]
   },
   "outputs": [],
   "source": [
    "report.apply(cell_attrib, axis=1).to_list()"
   ]
  },
  {
   "cell_type": "markdown",
   "id": "49fc326f",
   "metadata": {},
   "source": [
    "Let's create a function to visualise a notebook based on its list of cell size and colour tuples; we'll also allow it to habdle multiple lists:"
   ]
  },
  {
   "cell_type": "code",
   "execution_count": null,
   "id": "5d400970",
   "metadata": {},
   "outputs": [],
   "source": [
    "def nb_vis(cell_map, w=20, gap_boost=1, **kwargs):\n",
    "    \"\"\"Visualise notebook gross cell structure.\"\"\"\n",
    "    \n",
    "    def get_gap(cell_map):\n",
    "        \"\"\"Automatically set the gap value based on overall length\"\"\"\n",
    "        \n",
    "        def get_overall_length(cell_map):\n",
    "            \"\"\"Get overall length of a notebook.\"\"\"\n",
    "            overall_len = 0\n",
    "            gap = 0\n",
    "            for i ,(l,t) in enumerate(cell_map):\n",
    "                #i is number of cells if that's useful too?\n",
    "                overall_len = overall_len + l\n",
    "            return overall_len\n",
    "\n",
    "        max_overall_len = 0\n",
    "        \n",
    "        if isinstance(cell_map,dict):\n",
    "            for k in cell_map:\n",
    "                _overall_len = get_overall_length(cell_map[k])\n",
    "                max_overall_len = _overall_len if _overall_len > max_overall_len else max_overall_len\n",
    "        else:\n",
    "            max_overall_len = get_overall_length(cell_map)\n",
    "\n",
    "        #Set the gap at 0.5% of the overall length\n",
    "        return math.ceil(max_overall_len * 0.01)\n",
    "        \n",
    "        \n",
    "    def plotter(cell_map, x, y, label='', header_gap = 0.2,\n",
    "                linewidth = 5,\n",
    "                orientation ='v', gap_colour = 'lightgrey'):\n",
    "        \"\"\"Plot visualisation of gross cell structure for a single notebook.\"\"\"\n",
    "        \n",
    "        if orientation =='v':\n",
    "            plt.text(x, y, label)\n",
    "            y = y + header_gap\n",
    "        else:\n",
    "            plt.text(y, x, label)\n",
    "            x = x + header_gap\n",
    "            \n",
    "        for _cell_map in cell_map:\n",
    "            _y = y + gap if gap_colour else y\n",
    "            __y = _y + _cell_map[0] + 1 #Make tiny cells slightly bigger\n",
    "            \n",
    "            if orientation =='v':\n",
    "                X = _X = __X = x\n",
    "                Y = y\n",
    "                _Y =_y\n",
    "                __Y = __y\n",
    "            else:\n",
    "                X = y\n",
    "                _X = _y\n",
    "                __X = __y\n",
    "                Y = _Y = __Y = x\n",
    "            \n",
    "            #Add a coloured bar between cells\n",
    "            if y > 0:\n",
    "                if gap_colour:\n",
    "                    plt.plot([X,_X],[Y,_Y], gap_colour, linewidth=linewidth)\n",
    "\n",
    "            \n",
    "            plt.plot([_X,__X], [_Y,__Y], _cell_map[1], linewidth=linewidth)\n",
    "\n",
    "            y = __y\n",
    "\n",
    "    x=0\n",
    "    y=0\n",
    "    \n",
    "    if isinstance(cell_map,list):\n",
    "        gap = get_gap(cell_map) * gap_boost\n",
    "        fig, ax = plt.subplots(figsize=(w, 1))\n",
    "        plotter(cell_map, x, y, **kwargs)\n",
    "    elif isinstance(cell_map,dict):\n",
    "        gap = get_gap(cell_map) * gap_boost\n",
    "        fig, ax = plt.subplots(figsize=(w,len(cell_map)))\n",
    "        for k in cell_map:\n",
    "            plotter(cell_map[k], x, y, k, **kwargs)\n",
    "            x = x + 1\n",
    "\n",
    "    ax.axis('off')\n",
    "    plt.gca().invert_yaxis()"
   ]
  },
  {
   "cell_type": "markdown",
   "id": "bcc28312",
   "metadata": {},
   "source": [
    "We can now easily create a simple visualisation of the gross cell structure of the notebook:"
   ]
  },
  {
   "cell_type": "code",
   "execution_count": null,
   "id": "61df238f",
   "metadata": {
    "tags": [
     "active-ipynb"
    ]
   },
   "outputs": [],
   "source": [
    "cell_mapping = report.apply(cell_attrib, axis=1).to_list()\n",
    "nb_vis(cell_mapping, orientation='h')"
   ]
  },
  {
   "cell_type": "markdown",
   "id": "a48c59f9",
   "metadata": {},
   "source": [
    "We can alo visualisation multiple notebooks, labelling each with the notebook name and plotted against the same length axis so that we can compare notebook sizes and structures directly."
   ]
  },
  {
   "cell_type": "code",
   "execution_count": null,
   "id": "2a1f26b4",
   "metadata": {
    "tags": [
     "active-ipynb"
    ]
   },
   "outputs": [],
   "source": [
    "nb_vis({'a':cell_mapping, 'b':cell_mapping[:3],\n",
    "       'c':cell_mapping+cell_mapping, 'd':cell_mapping,}, orientation='h')"
   ]
  },
  {
   "cell_type": "code",
   "execution_count": null,
   "id": "65021a53",
   "metadata": {},
   "outputs": [],
   "source": [
    "def cell_attribs(cells, colour='cell_type', size='n_screen_lines'):\n",
    "    return cells.apply(cell_attrib, axis=1, args=(colour,size)).to_list()"
   ]
  },
  {
   "cell_type": "code",
   "execution_count": null,
   "id": "1c6a8068",
   "metadata": {
    "tags": [
     "active-ipynb"
    ]
   },
   "outputs": [],
   "source": [
    "zz = ddf.groupby(['filename'])[['cell_type', 'n_screen_lines']].apply(cell_attribs)\n",
    "nb_vis(zz.to_dict(), orientation='h', gap_boost=1)\n",
    "#[['n_total_code_lines','n_words','reading_time_mins', 'reading_time_s' ]].sum()"
   ]
  },
  {
   "cell_type": "markdown",
   "id": "c0d76dc3",
   "metadata": {},
   "source": [
    "We can also see how they look based on reading time."
   ]
  },
  {
   "cell_type": "code",
   "execution_count": null,
   "id": "3f436571",
   "metadata": {
    "tags": [
     "active-ipynb"
    ]
   },
   "outputs": [],
   "source": [
    "zz = ddf.groupby(['filename'])[['cell_type', 'reading_time_s']].apply(cell_attribs,'cell_type','reading_time_s')\n",
    "nb_vis(zz.to_dict(), orientation='h', gap_boost=2)"
   ]
  },
  {
   "cell_type": "markdown",
   "id": "a52cd6ec",
   "metadata": {},
   "source": [
    "### Visualing Intra-Cell Structure\n",
    "\n",
    "For example, paragraphs and code blocks in markdown cells; comment lines, empty lines, code lines, magic lines / blocks, shell command lines in code cells.\n",
    "\n",
    "Supporting the level of detail may be be tricky. A multi-column format is probably best showing eg an approximate \"screen's worth\" of content in a column then the next \"scroll\" down displayed in the next column along."
   ]
  },
  {
   "cell_type": "markdown",
   "id": "35caa7ab",
   "metadata": {},
   "source": [
    "---\n",
    "\n",
    "# BELOW HERE - NOTES AND TO DO"
   ]
  },
  {
   "cell_type": "code",
   "execution_count": null,
   "id": "32f43e95",
   "metadata": {
    "tags": [
     "active-ipynb"
    ]
   },
   "outputs": [],
   "source": [
    "#Maintainability index\n",
    "from radon.metrics import mi_visit\n",
    "\n",
    "#If True, then count multiline strings as comment lines as well.\n",
    "#This is not always safe because Python multiline strings are not always docstrings.\n",
    "\n",
    "multi = True\n",
    "mi_visit(c,multi)"
   ]
  },
  {
   "cell_type": "code",
   "execution_count": null,
   "id": "723caddf",
   "metadata": {
    "tags": [
     "active-ipynb"
    ]
   },
   "outputs": [],
   "source": [
    "from radon.metrics import mi_parameters\n",
    "mi_parameters(c, multi)\n",
    "\n",
    "\"\"\"\n",
    "the Halstead Volume\n",
    "the Cyclomatic Complexity\n",
    "the number of LLOC (Logical Lines of Code)\n",
    "the percent of lines of comment\n",
    "\"\"\""
   ]
  },
  {
   "cell_type": "code",
   "execution_count": null,
   "id": "f908195b",
   "metadata": {
    "tags": [
     "active-ipynb"
    ]
   },
   "outputs": [],
   "source": [
    "from radon.complexity import cc_visit\n",
    "\n",
    "#Doesn't like %% or % magic\n",
    "cc_visit(c)"
   ]
  },
  {
   "cell_type": "code",
   "execution_count": null,
   "id": "c2497952",
   "metadata": {
    "tags": [
     "active-ipynb"
    ]
   },
   "outputs": [],
   "source": [
    "from radon.metrics import h_visit\n",
    "h_visit(c)"
   ]
  },
  {
   "cell_type": "markdown",
   "id": "e0ac4abd",
   "metadata": {},
   "source": [
    "## Checking Notebook Metrics Evolution Over Time\n",
    "\n",
    "The `wily` package uses `radon` to produce code quality reports across a git repository history and generate charts showin the evolution of metrics over the lifetime of a repository. This suggests various corollaries:\n",
    "\n",
    "- could we generate `wily` style measures over the recent history of a notebook code cell?\n",
    "- could we generate `wily` style temporal measures over all the reports (markdown text, as well as code) generated from a notebook across several commits of it to a git repository."
   ]
  },
  {
   "cell_type": "markdown",
   "id": "c03f845e",
   "metadata": {},
   "source": [
    "## Other Cell Analysis\n",
    "\n",
    "As a placeholder, should we also at least report on a count of cells that are note code or markdown cells?\n",
    "\n",
    "Also a count of empty cells?\n",
    "\n",
    "Is this moving towards some sort of notebook linter?"
   ]
  }
 ],
 "metadata": {
  "jupytext": {
   "formats": "ipynb,nb_quality_profile//py:light"
  },
  "kernelspec": {
   "display_name": "Python 3 (ipykernel)",
   "language": "python",
   "name": "python3"
  },
  "language_info": {
   "codemirror_mode": {
    "name": "ipython",
    "version": 3
   },
   "file_extension": ".py",
   "mimetype": "text/x-python",
   "name": "python",
   "nbconvert_exporter": "python",
   "pygments_lexer": "ipython3",
   "version": "3.11.0"
  }
 },
 "nbformat": 4,
 "nbformat_minor": 5
}
